{
 "cells": [
  {
   "cell_type": "markdown",
   "metadata": {},
   "source": [
    "# Web Scraping the SEC\n",
    "***\n",
    "The U.S. Securities and Exchange Commission (SEC) is an independent federal government agency responsible for protecting investors, maintaining fair and orderly functioning of securities markets and facilitating capital formation. Part of their job is to house financial disclosures that companies submit for a wide range of activities.\n",
    "\n",
    "In this tutorial, we will explore how to web scrape the SEC using their public database. If you would like more information about the SEC and their data sources, I encourage you to visit the SEC's website directly. Here is the link for your reference: **https://www.sec.gov/edgar/searchedgar/accessing-edgar-data.htm**\n",
    "\n",
    "The link above will give an overview of the EDGAR (Electronic Data Gathering, Analysis, and Retrieval system) which allows the complete access to filings of individuals, funds, and businesses. Additionally, my series on YouTube that covers this topic can be found here: **https://www.youtube.com/playlist?list=PLcFcktZ0wnNkOo9FQ2wrDcsV0jYqEYu1z**"
   ]
  },
  {
   "cell_type": "code",
   "execution_count": 1,
   "metadata": {},
   "outputs": [],
   "source": [
    "# import our libraries\n",
    "import requests\n",
    "import urllib\n",
    "from bs4 import BeautifulSoup"
   ]
  },
  {
   "cell_type": "markdown",
   "metadata": {},
   "source": [
    "***\n",
    "## Defining a URL Builder\n",
    "To access the different archives and filings in EDGAR, we will need to request different URLs. However, while some of these URLs we can define beforehand others we will have to build from scratch. To make the process of building URLs consistent and straightforward, we will set a function that takes a base URL & a list of components and creates a URL from them."
   ]
  },
  {
   "cell_type": "code",
   "execution_count": 2,
   "metadata": {},
   "outputs": [
    {
     "data": {
      "text/plain": [
       "'https://www.sec.gov/Archives/edgar/data/886982/000156459019011378/0001564590-19-011378-index-headers.html'"
      ]
     },
     "execution_count": 2,
     "metadata": {},
     "output_type": "execute_result"
    }
   ],
   "source": [
    "# let's first make a function that will make the process of building a url easy.\n",
    "def make_url(base_url , comp):\n",
    "    \n",
    "    url = base_url\n",
    "    \n",
    "    # add each component to the base url\n",
    "    for r in comp:\n",
    "        url = '{}/{}'.format(url, r)\n",
    "        \n",
    "    return url\n",
    "\n",
    "# EXAMPLE\n",
    "base_url = r\"https://www.sec.gov/Archives/edgar/data\"\n",
    "components = ['886982','000156459019011378', '0001564590-19-011378-index-headers.html']\n",
    "make_url(base_url, components)"
   ]
  },
  {
   "cell_type": "markdown",
   "metadata": {},
   "source": [
    "***\n",
    "## Overview of the Archive Structure\n",
    "\n",
    "Before we get to the actual pulling of data, it pays dividends to understand the overall structure of the archive. At this point, it only helps to know three of the main directories:\n",
    "\n",
    "1. **Index**\n",
    "2. **Feed**\n",
    "3. **OldLoad**\n",
    "\n",
    "Each of the directories has very similar information, but it organized differently. The first directory that we will talk about and use primarily in this tutorial is the **index** directory. The index directory indexes to all public filings are available from 1994Q3 through the present. It can further be broken down into two sub-directories:\n",
    "\n",
    "1. **Archives/edgar/daily-index** — Daily index files through the current year.\n",
    "2. **Archives/edgar/full-index** — Full indexes offer a \"bridge\" between quarterly and daily indexes, compiling filings from the beginning of the current quarter through the previous business day. At the end of the quarter, the full index is rolled into a static quarterly index.\n",
    "\n",
    "The other directory we will talk about is the **Feed** directory which contains tar and gzips archive files (e.g., 20061207.nc.tar.gz) for each filing day. The third directory is the **OldLoad** directory which contains daily concatenated archive files of all public filing submissions complete with the filing header. Each directory and all child subdirectories contain three files to assist in automated crawling of these directories. **(Note that these are not visible through directory browsing.)**\n",
    "\n",
    "1. **index.html** - The web browser would generally receive these.\n",
    "2. **index.xml** - A XML structured version of the same content.\n",
    "2. **index.json** - A JSON structured vision of the same material.\n",
    "\n",
    "***\n",
    "## Pulling the documents for a single filing for a single company\n",
    "\n",
    "If we want to pull all the records for a single filing, the process is simple. We pass through the company's CIK number; this will define the company we want to search. Once we establish a CIK number, we can request the filings for that company. Remember, that when we request the filings, we will get all the filings for that company sorted by the order in which they were filed. Older companies will have more filing than newer companies, and this can make the process seem a little daunting for older companies, but we have tools are our disposal to narrow the search. \n",
    "\n",
    "If we need to, we can filter the filings to only a specific time range, but this will require that we filter the URLs that only contain those dates. Unfortunately, we will be able to select a particular year. If you look at the end of the file extension **(0001564590-19-011378)**, we come across this number which is called the accession number. \n",
    "\n",
    "I'll be quoting directly from the SEC to define this number. In the example above, **\"0001564590-19-011378\"** is the \"accession number,\" a unique identifier assigned automatically to an accepted submission by the EDGAR Filer System. The first set of numbers (0001564590) is the **CIK of the entity submitting the filing.**\n",
    "\n",
    "This could be the company or a third-party filer agent. Some filer agents without a regulatory requirement to make disclosure filings with the SEC have a CIK but no searchable presence in the public EDGAR database. **The next two numbers (19) represent the year.** The last series of numbers represents a **sequential count of submitted filings from that CIK. The count is usually, but not always, reset to 0 at the start of each calendar year.**"
   ]
  },
  {
   "cell_type": "code",
   "execution_count": 3,
   "metadata": {},
   "outputs": [
    {
     "name": "stdout",
     "output_type": "stream",
     "text": [
      "https://www.sec.gov/Archives/edgar/data/886982/000156459019011587/0001564590-19-011587-index-headers.html\n",
      "https://www.sec.gov/Archives/edgar/data/886982/000156459019011587/0001564590-19-011587-index.html\n",
      "https://www.sec.gov/Archives/edgar/data/886982/000156459019011587/0001564590-19-011587.txt\n",
      "https://www.sec.gov/Archives/edgar/data/886982/000156459019011587/gs-424b2.htm\n"
     ]
    }
   ],
   "source": [
    "# define a base url, this would be the EDGAR data Archives\n",
    "base_url = r\"https://www.sec.gov/Archives/edgar/data\"\n",
    "\n",
    "# define a company to search (GOLDMAN SACHS), this requires a CIK number that is defined by the SEC.\n",
    "cik_num = '886982'\n",
    "\n",
    "# let's get all the filings for Goldman Sachs in a json format.\n",
    "# Alternative is .html & .xml\n",
    "filings_url = make_url(base_url, [cik_num, 'index.json'])\n",
    "\n",
    "# Get the filings and then decode it into a dictionary object.\n",
    "content = requests.get(filings_url)\n",
    "decoded_content = content.json()\n",
    "\n",
    "# Get a single filing number, this way we can request all the documents that were submitted.\n",
    "filing_number = decoded_content['directory']['item'][0]['name']\n",
    "\n",
    "# define the filing url, again I want all the data back as JSON.\n",
    "filing_url = make_url(base_url, [cik_num, filing_number, 'index.json'])\n",
    "\n",
    "# Get the documents submitted for that filing.\n",
    "content = requests.get(filing_url)\n",
    "document_content = content.json()\n",
    "\n",
    "# get a document name\n",
    "for document in document_content['directory']['item']:\n",
    "    if document['type'] != 'image2.gif':\n",
    "        document_name = document['name']\n",
    "        filing_url = make_url(base_url, [cik_num, filing_number, document_name])\n",
    "        print(filing_url)"
   ]
  },
  {
   "cell_type": "markdown",
   "metadata": {},
   "source": [
    "***\n",
    "## Pulling all the documents for all the filings for a single company\n",
    "If we want to pull all the records for all the filings, the process is very similar. All we are going to do is a loop through all the filings instead of just grabbing one. Remember, that there can be many filings for a single company so you may get back more than you intend."
   ]
  },
  {
   "cell_type": "code",
   "execution_count": 24,
   "metadata": {},
   "outputs": [
    {
     "name": "stdout",
     "output_type": "stream",
     "text": [
      "----------------------------------------------------------------------------------------------------\n",
      "Grabbing filing : 000156459019011533\n",
      "https://www.sec.gov/Archives/edgar/data/886982/000156459019011533/0001564590-19-011533-index-headers.html\n",
      "https://www.sec.gov/Archives/edgar/data/886982/000156459019011533/0001564590-19-011533-index.html\n",
      "https://www.sec.gov/Archives/edgar/data/886982/000156459019011533/0001564590-19-011533.txt\n",
      "https://www.sec.gov/Archives/edgar/data/886982/000156459019011533/gbtfcyx5zdif000001.jpg\n",
      "https://www.sec.gov/Archives/edgar/data/886982/000156459019011533/gbtfcyx5zdif000002.jpg\n",
      "https://www.sec.gov/Archives/edgar/data/886982/000156459019011533/gbtfcyx5zdif000003.jpg\n",
      "https://www.sec.gov/Archives/edgar/data/886982/000156459019011533/gbtfcyx5zdif000004.jpg\n",
      "https://www.sec.gov/Archives/edgar/data/886982/000156459019011533/gbtfcyx5zdif000005.jpg\n",
      "https://www.sec.gov/Archives/edgar/data/886982/000156459019011533/gs-424b2.htm\n",
      "----------------------------------------------------------------------------------------------------\n",
      "Grabbing filing : 000156459019011530\n",
      "https://www.sec.gov/Archives/edgar/data/886982/000156459019011530/0001564590-19-011530-index-headers.html\n",
      "https://www.sec.gov/Archives/edgar/data/886982/000156459019011530/0001564590-19-011530-index.html\n",
      "https://www.sec.gov/Archives/edgar/data/886982/000156459019011530/0001564590-19-011530.txt\n",
      "https://www.sec.gov/Archives/edgar/data/886982/000156459019011530/gbabbnbzlvva000001.jpg\n",
      "https://www.sec.gov/Archives/edgar/data/886982/000156459019011530/gbabbnbzlvva000002.jpg\n",
      "https://www.sec.gov/Archives/edgar/data/886982/000156459019011530/gbabbnbzlvva000003.jpg\n",
      "https://www.sec.gov/Archives/edgar/data/886982/000156459019011530/gbabbnbzlvva000004.jpg\n",
      "https://www.sec.gov/Archives/edgar/data/886982/000156459019011530/gbabbnbzlvva000005.jpg\n",
      "https://www.sec.gov/Archives/edgar/data/886982/000156459019011530/gbabbnbzlvva000006.jpg\n",
      "https://www.sec.gov/Archives/edgar/data/886982/000156459019011530/gs-424b2.htm\n"
     ]
    }
   ],
   "source": [
    "# define a base url, this would be the EDGAR data Archives\n",
    "base_url = r\"https://www.sec.gov/Archives/edgar/data\"\n",
    "\n",
    "# define a company to search (GOLDMAN SACHS), this requires a CIK number that is defined by the SEC.\n",
    "cik_num = '886982'\n",
    "\n",
    "# let's get all the filings for Goldman Sachs in a json format.\n",
    "# Alternative is .html & .xml\n",
    "filings_url = make_url(base_url, [cik_num, 'index.json'])\n",
    "\n",
    "# Get the filings and then decode it into a dictionary object.\n",
    "content = requests.get(filings_url)\n",
    "decoded_content = content.json()\n",
    "\n",
    "# Get a filing number, this way we can request all the documents that were submitted.\n",
    "# HERE I AM JUST GRABBING CERTAIN FILINGS FOR READABILITY REMOVE [3:5] TO GRAB THEM ALL.\n",
    "for filing_number in decoded_content['directory']['item'][3:5]:    \n",
    "    \n",
    "    filing_num = filing_number['name']\n",
    "    print('-'*100)\n",
    "    print('Grabbing filing : {}'.format(filing_num))\n",
    "    \n",
    "    # define the filing url, again I want all the data back as JSON.\n",
    "    filing_url = make_url(base_url, [cik_num, filing_num, 'index.json'])\n",
    "\n",
    "    # Get the documents submitted for that filing.\n",
    "    content = requests.get(filing_url)\n",
    "    document_content = content.json()\n",
    "\n",
    "    # get a document name\n",
    "    for document in document_content['directory']['item']:\n",
    "        document_name = document['name']\n",
    "        filing_url = make_url(base_url, [cik_num, filing_num, document_name])\n",
    "        print(filing_url)"
   ]
  },
  {
   "cell_type": "markdown",
   "metadata": {},
   "source": [
    "***\n",
    "## Pulling the daily index filings\n",
    "The Daily-Index endpoint will return all the filings for a given year. When I work with the daily-index archive I try to break the process into a few key steps:\n",
    "\n",
    "- Define the Year we want.\n",
    "- Define the Quarter we want.\n",
    "- Define the day we want.\n",
    "\n",
    "All this process does is assemble a simple URL into a more complex URL. Notice how I take the `base_url` and tack on the different folder names? I get the folder names by looping through each of the items in the `['directory']['item']` list and grabbing the value assigned to the `name` key.\n",
    "\n",
    "There are a couple of things I want you to take away from the original file URLs. The first thing you will notice is that there are four main types of file and for the most part all the information is identical in the data, just sorted differently. Each of them can be defined in the following way:\n",
    "\n",
    " - **Company** — Sorted by company name\n",
    " - **Form** — Sorted by form type\n",
    " - **Master** — Sorted by CIK number\n",
    " - **XBRL** — List of submissions containing XBRL financial files, sorted by CIK number; these include Voluntary Filer Program submissions\n",
    "\n",
    "I Also want to let you know that there is a **crawler** file and a **sitemap** file. Out of these two files, the sitemap is the only valuable one because it contains a more structured list of all the files submitted for any given day. Where each file can be found in a `url` tag:\n",
    "\n",
    "`<url>\n",
    "    <loc>http://www.sec.gov/Archives/edgar/data/4977/0000004977-19-000003-index.htm</loc>\n",
    "    <lastmod>2019-01-02</lastmod>\n",
    "    <changefreq>never</changefreq>\n",
    "    <priority>0.5</priority>\n",
    "</url>\n",
    "`\n",
    "\n",
    "For more information, please visit the documentation provided by the SEC. https://www.sec.gov/edgar/searchedgar/accessing-edgar-data.htm"
   ]
  },
  {
   "cell_type": "code",
   "execution_count": 5,
   "metadata": {},
   "outputs": [
    {
     "name": "stdout",
     "output_type": "stream",
     "text": [
      "----------------------------------------------------------------------------------------------------\n",
      "Building the URL for Year: 2019\n",
      "URL Link: https://www.sec.gov/Archives/edgar/daily-index/2019/index.json\n",
      "----------------------------------------------------------------------------------------------------\n",
      "Pulling url for Quarter: QTR1\n",
      "URL Link: https://www.sec.gov/Archives/edgar/daily-index/2019/QTR1/index.json\n",
      "----------------------------------------------------------------------------------------------------\n",
      "Pulling files\n",
      "File URL Link: https://www.sec.gov/Archives/edgar/daily-index/2019/QTR1/company.20190102.idx\n",
      "File URL Link: https://www.sec.gov/Archives/edgar/daily-index/2019/QTR1/company.20190103.idx\n",
      "File URL Link: https://www.sec.gov/Archives/edgar/daily-index/2019/QTR1/company.20190104.idx\n",
      "File URL Link: https://www.sec.gov/Archives/edgar/daily-index/2019/QTR1/company.20190107.idx\n",
      "File URL Link: https://www.sec.gov/Archives/edgar/daily-index/2019/QTR1/company.20190108.idx\n",
      "File URL Link: https://www.sec.gov/Archives/edgar/daily-index/2019/QTR1/company.20190109.idx\n",
      "File URL Link: https://www.sec.gov/Archives/edgar/daily-index/2019/QTR1/company.20190110.idx\n",
      "File URL Link: https://www.sec.gov/Archives/edgar/daily-index/2019/QTR1/company.20190111.idx\n",
      "File URL Link: https://www.sec.gov/Archives/edgar/daily-index/2019/QTR1/company.20190114.idx\n",
      "File URL Link: https://www.sec.gov/Archives/edgar/daily-index/2019/QTR1/company.20190115.idx\n"
     ]
    }
   ],
   "source": [
    "# define the urls needed to make the request, let's start with all the daily filings\n",
    "base_url = r\"https://www.sec.gov/Archives/edgar/daily-index\"\n",
    "\n",
    "# The daily-index filings, require a year and content type (html, json, or xml).\n",
    "year_url = make_url(base_url, ['2019', 'index.json'])\n",
    "\n",
    "# Display the new Year URL\n",
    "print('-'*100)\n",
    "print('Building the URL for Year: {}'.format('2019'))\n",
    "print(\"URL Link: \" + year_url)\n",
    "\n",
    "# request the content for 2019, remember that a JSON strucutre will be sent back so we need to decode it.\n",
    "content = requests.get(year_url)\n",
    "decoded_content = content.json()\n",
    "\n",
    "# the structure is almost identical to other json requests we've made. Go to the item list.\n",
    "# AGAIN ONLY GRABBING A SUBSET OF THE FULL DATASET \n",
    "for item in decoded_content['directory']['item'][0:1]:\n",
    "    \n",
    "    # get the name of the folder\n",
    "    print('-'*100)\n",
    "    print('Pulling url for Quarter: {}'.format(item['name']))\n",
    "    \n",
    "    # The daily-index filings, require a year, a quarter and a content type (html, json, or xml).\n",
    "    qtr_url = make_url(base_url, ['2019', item['name'], 'index.json'])\n",
    "    \n",
    "    # print out the url.\n",
    "    print(\"URL Link: \" + qtr_url)\n",
    "    \n",
    "    # Request, the new url and again it will be a JSON structure.\n",
    "    file_content = requests.get(qtr_url)\n",
    "    decoded_content = file_content.json()\n",
    "    \n",
    "    print('-'*100)\n",
    "    print('Pulling files')\n",
    "\n",
    "    # for each file in the directory items list, print the file type and file href.\n",
    "    # AGAIN DOING A SUBSET\n",
    "    for file in decoded_content['directory']['item'][0:10]:\n",
    "        \n",
    "        file_url = make_url(base_url, ['2019', item['name'], file['name']])\n",
    "        print(\"File URL Link: \" + file_url)"
   ]
  },
  {
   "cell_type": "markdown",
   "metadata": {},
   "source": [
    "***\n",
    "## Parsing the master IDX file\n",
    "Out of all the files to parse, I find the Master.idx file the easiest because it is possible to separate each field by a delimiter. Whereas the other files do not offer such a delimiter or they lack the additional detail that is provided by master file. With that being said, if I had to choose a second file to parse, it would probably be the sitemap file because of the provided structure in it.\n",
    "\n",
    "The first thing is to load the information to a text file so that way you don't have to make a second request and not burden the server. After we create a new text file with the content, we can reload it into by opening the text file. From here, I usually encourage people to explore the data before they perform any parsing. We will notice right away that getting the info may be a little challenging, but it can be done.\n",
    "\n",
    "The approach that I laid out below worked for most files I encountered, but I cannot guarantee it will work for all of them. As time goes on you, have more detailed data so parsing the dataset will become more comfortable. "
   ]
  },
  {
   "cell_type": "code",
   "execution_count": 6,
   "metadata": {},
   "outputs": [],
   "source": [
    "# define a url, in this case I'll just take one of the urls up above.\n",
    "file_url = r\"https://www.sec.gov/Archives/edgar/daily-index/2019/QTR2/master.20190401.idx\"\n",
    "\n",
    "# request that new content, this will not be a JSON STRUCTURE!\n",
    "content = requests.get(file_url).content\n",
    "\n",
    "# we can always write the content to a file, so we don't need to request it again.\n",
    "with open('master_20190102.txt', 'wb') as f:\n",
    "     f.write(content)"
   ]
  },
  {
   "cell_type": "code",
   "execution_count": 7,
   "metadata": {},
   "outputs": [
    {
     "data": {
      "text/plain": [
       "[['1236397',\n",
       "  'BRADBURY DANIEL',\n",
       "  '4',\n",
       "  '20190401',\n",
       "  'https://www.sec.gov/Archives/edgar/data/1236397/0000886744-19-000047.txt'],\n",
       " ['1236458',\n",
       "  'WILLIAMS PAUL S',\n",
       "  '4',\n",
       "  '20190401',\n",
       "  'https://www.sec.gov/Archives/edgar/data/1236458/0001227654-19-000074.txt'],\n",
       " ['1237789',\n",
       "  'BLAIR DONALD W',\n",
       "  '4',\n",
       "  '20190401',\n",
       "  'https://www.sec.gov/Archives/edgar/data/1237789/0001127602-19-013788.txt']]"
      ]
     },
     "execution_count": 7,
     "metadata": {},
     "output_type": "execute_result"
    }
   ],
   "source": [
    "# let's open it and we will now have a byte stream to play with.\n",
    "with open('master_20190102.txt','rb') as f:\n",
    "     byte_data = f.read()\n",
    "\n",
    "# Now that we loaded the data, we have a byte stream that needs to be decoded and then split by double spaces.\n",
    "data = byte_data.decode(\"utf-8\").split('  ')\n",
    "\n",
    "# We need to remove the headers, so look for the end of the header and grab it's index\n",
    "for index, item in enumerate(data):\n",
    "    if \"ftp://ftp.sec.gov/edgar/\" in item:\n",
    "        start_ind = index\n",
    "\n",
    "# define a new dataset with out the header info.\n",
    "data_format = data[start_ind + 1:]\n",
    "\n",
    "master_data = []\n",
    "\n",
    "# now we need to break the data into sections, this way we can move to the final step of getting each row value.\n",
    "for index, item in enumerate(data_format):\n",
    "    \n",
    "    # if it's the first index, it won't be even so treat it differently\n",
    "    if index == 0:\n",
    "        clean_item_data = item.replace('\\n','|').split('|')\n",
    "        clean_item_data = clean_item_data[8:]\n",
    "    else:\n",
    "        clean_item_data = item.replace('\\n','|').split('|')\n",
    "        \n",
    "    for index, row in enumerate(clean_item_data):\n",
    "        \n",
    "        # when you find the text file.\n",
    "        if '.txt' in row:\n",
    "\n",
    "            # grab the values that belong to that row. It's 4 values before and one after.\n",
    "            mini_list = clean_item_data[(index - 4): index + 1]\n",
    "            \n",
    "            if len(mini_list) != 0:\n",
    "                mini_list[4] = \"https://www.sec.gov/Archives/\" + mini_list[4]\n",
    "                master_data.append(mini_list)\n",
    "                \n",
    "# grab the first three items\n",
    "master_data[:3]"
   ]
  },
  {
   "cell_type": "markdown",
   "metadata": {},
   "source": [
    "***\n",
    "## Creating our Document Dictionary\n",
    "An extra step we can take is converting our master list of data into a list of dictionaries, where each dictionary represents a single filing document. This way we can quickly iterate over the master list to grab the data we need. This structure will help us down the road when we need to access only some aspects of information. I encourage individuals to put the time up in front to ensure a quick and easy process for the bulk of the parsing."
   ]
  },
  {
   "cell_type": "code",
   "execution_count": 8,
   "metadata": {},
   "outputs": [],
   "source": [
    "# loop through each document in the master list.\n",
    "for index, document in enumerate(master_data):\n",
    "    \n",
    "    # create a dictionary for each document in the master list\n",
    "    document_dict = {}\n",
    "    document_dict['cik_number'] = document[0]\n",
    "    document_dict['company_name'] = document[1]\n",
    "    document_dict['form_id'] = document[2]\n",
    "    document_dict['date'] = document[3]\n",
    "    document_dict['file_url'] = document[4]\n",
    "    \n",
    "    master_data[index] = document_dict"
   ]
  },
  {
   "cell_type": "markdown",
   "metadata": {},
   "source": [
    "***\n",
    "## Filtering by File Type\n",
    "\n",
    "Naturally, we might not need all the files that we have scraped, so let's explore how to filter the data. If we want to grab all the 10-K filings from the dataset, we loop through our `master_data` list and only print the ones where the `form_id` has a value of `10-K`. In the example below, I only loop through the first 100 dictionaries for readability.\n",
    "\n",
    "Finally, I do some extra transformation on the final document URL to set the stage for the next tutorial. The beautiful thing about these document URLs is that with a few other transformations we can now get to that particular company filing archive.\n",
    "\n",
    "If you would like more info on the different financial forms that we have access to, I encourage you to visit **https://www.sec.gov/forms** for more info."
   ]
  },
  {
   "cell_type": "code",
   "execution_count": 20,
   "metadata": {
    "scrolled": true
   },
   "outputs": [
    {
     "name": "stdout",
     "output_type": "stream",
     "text": [
      "----------------------------------------------------------------------------------------------------\n",
      "GENERAL STEEL HOLDINGS INC\n",
      "https://www.sec.gov/Archives/edgar/data/1239188/0001144204-19-017485.txt\n",
      "----------------------------------------------------------------------------------------------------\n",
      "COMMONWEALTH INCOME & GROWTH FUND V\n",
      "https://www.sec.gov/Archives/edgar/data/1253347/0001654954-19-003881.txt\n",
      "----------------------------------------------------------------------------------------------------\n",
      "Joway Health Industries Group Inc\n",
      "https://www.sec.gov/Archives/edgar/data/1263364/0001213900-19-005388.txt\n",
      "----------------------------------------------------------------------------------------------------\n",
      "The Filing Detail can be found here: https://www.sec.gov/Archives/edgar/data/1263364/0001213900-19-005388-index.htm\n",
      "----------------------------------------------------------------------------------------------------\n",
      "The Archive Folder can be found here: https://www.sec.gov/Archives/edgar/data/1263364/000121390019005388\n",
      "----------------------------------------------------------------------------------------------------\n",
      "The Company Archive Folder can be found here: https://www.sec.gov/Archives/edgar/data/1263364\n"
     ]
    }
   ],
   "source": [
    "# by being in a dictionary format, it'll be easier to get the items we need.\n",
    "for document_dict in master_data[0:100]:\n",
    "\n",
    "    # if it's a 10-K document pull the url and the name.\n",
    "    if document_dict['form_id'] == '10-K':\n",
    "        \n",
    "        # get the components\n",
    "        comp_name = document_dict['company_name']\n",
    "        docu_url = document_dict['file_url']\n",
    "        \n",
    "        print('-'*100)\n",
    "        print(comp_name)\n",
    "        print(docu_url)\n",
    "\n",
    "# Create a url that takes us to the Detail filing landing page\n",
    "file_url_adj = docu_url.split('.txt')\n",
    "file_url_archive = file_url_adj[0] + '-index.htm'\n",
    "\n",
    "print('-'*100)\n",
    "print('The Filing Detail can be found here: {}'.format(file_url_archive))\n",
    "\n",
    "# Create a url that will take us to the archive folder\n",
    "archive_url = docu_url.replace('.txt','').replace('-','')\n",
    "\n",
    "print('-'*100)\n",
    "print('The Archive Folder can be found here: {}'.format(archive_url))\n",
    "\n",
    "# Create a url that will take us the Company filing Archive\n",
    "company_url =docu_url.rpartition('/')\n",
    "\n",
    "print('-'*100)\n",
    "print('The Company Archive Folder can be found here: {}'.format(company_url[0]))"
   ]
  }
 ],
 "metadata": {
  "kernelspec": {
   "display_name": "Python 3",
   "language": "python",
   "name": "python3"
  },
  "language_info": {
   "codemirror_mode": {
    "name": "ipython",
    "version": 3
   },
   "file_extension": ".py",
   "mimetype": "text/x-python",
   "name": "python",
   "nbconvert_exporter": "python",
   "pygments_lexer": "ipython3",
   "version": "3.6.5"
  }
 },
 "nbformat": 4,
 "nbformat_minor": 2
}
