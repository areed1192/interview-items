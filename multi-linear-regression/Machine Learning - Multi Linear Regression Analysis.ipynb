{
 "cells": [
  {
   "cell_type": "markdown",
   "metadata": {},
   "source": [
    "# Mutivariate Regression Analysis\n",
    "***"
   ]
  },
  {
   "cell_type": "markdown",
   "metadata": {},
   "source": [
    "In our previous tutorial, we explored the topic of Linear Regression Analysis which attempts to model the relationship between two variables by fitting a linear equation to the observed data. In this simple regression analysis, we have one explanatory variable and one dependent variable. However, what happens if we believe there is more than one explanatory variable that impacts the dependent variable? How would we model this?\n",
    "\n",
    "Welcome to the world of multiple regression analysis. In this type of model, we attempt to model the relationship between multiple explanatory variables to a single dependent variable. While adding more variables allows us to model more complex phenomenons there are also additional steps we must take to make sure our model is sound and robust.\n",
    "\n",
    "In this tutorial, we will be performing a multiple regression analysis on South Korea's GDP growth. South Korea in the 1950s came out of the Korean War, which left it's country ravaged and in extreme poverty. However, South Korea would go through one most significant economic developments the World has seen, taking it from a country in poverty to one of the top 15 economies in the World today.\n",
    "\n",
    "Our goal is to be able to predict what the GDP growth rate will be in any year, given a few explanatory variables that we will define below."
   ]
  },
  {
   "cell_type": "markdown",
   "metadata": {},
   "source": [
    "***\n",
    "## Assumptions of the Model\n",
    "\n",
    "It's essential to understand the assumptions of the model before we start building and coding. Each assumption if violated means we may have to take extra steps to improve our model or in some cases dump the model altogether. Here is a list of the assumptions of the model:\n",
    "\n",
    "- Regression residuals must be normally distributed.\n",
    "- A linear relationship is assumed between the dependent variable and the independent variables.\n",
    "- The residuals are homoscedastic and approximately rectangular-shaped.\n",
    "- Absence of multicollinearity is expected in the model, meaning that independent variables are not too highly correlated.\n",
    "- No Autocorrelation of the residuals.\n",
    "\n",
    "I will be explaining these assumptions in more detail as we arrive at each of them in the tutorial. At this point, however, we need to have an idea of what they are."
   ]
  },
  {
   "cell_type": "markdown",
   "metadata": {},
   "source": [
    "***\n",
    "## Section One: Import our Libraries\n",
    "The first thing we need to do is import the libraries we will be using in this tutorial. To visualize our data, we will be using `matplotlib` and `seaborn` to create heatmaps and a scatter matrix. To build our model, we will be using the `sklearn` library, and the evaluation will be taking place with the `statsmodels` library. I've also added a few additional modules to help calculate certain metrics."
   ]
  },
  {
   "cell_type": "code",
   "execution_count": 1,
   "metadata": {},
   "outputs": [],
   "source": [
    "import numpy as np\n",
    "import pandas as pd\n",
    "import seaborn as sns\n",
    "from scipy import stats\n",
    "import matplotlib.pyplot as plt\n",
    "\n",
    "import statsmodels.api as sm\n",
    "from statsmodels.stats import diagnostic as diag\n",
    "from statsmodels.stats.outliers_influence import variance_inflation_factor\n",
    "\n",
    "from sklearn.linear_model import LinearRegression\n",
    "from sklearn.model_selection import train_test_split\n",
    "from sklearn.metrics import mean_squared_error, r2_score, mean_absolute_error\n",
    "\n",
    "%matplotlib inline"
   ]
  },
  {
   "cell_type": "markdown",
   "metadata": {},
   "source": [
    "## Section Two: Load the Data into Pandas\n",
    "After we've loaded our libraries, we can begin the process of importing and exploring our data. I've created an excel file with all the data we will be using in this tutorial. It contains 10 explanatory variables and 1 dependent variable. After we've loaded the data into the data frame, we will need to replace all the `..` values with `nan` as these represent missing values in our dataset. \n",
    "\n",
    "This dataset was downloaded from the World Bank website; if you would like to visit the site yourself, I encourage you to visit the link provided below. There is a tremendous amount of data available for free, that can be used across a wide range of models. \n",
    "\n",
    "Link: https://data.worldbank.org/\n",
    "\n",
    "From here, we will set the index of our data frame using the `set_index()` function to the `Year` column. The reasoning behind this is because it will make selecting the data easier. After we've defined the index, we convert the entire data frame to a `float` data type and then select years `1969 to 2016`. **These years were selected because they do not contain any missing values.**\n",
    "\n",
    "To make selecting the columns a little easier, we will rename all of our columns. I'll create a dictionary where the keys represent the old column names and the values associated with those keys are the new column names. I'll then call the `rename()` method and pass through the new columns dictionary.\n",
    "\n",
    "Finally, I'll check one last time for any missing values using `isnull().any()`, which will return true for a given column if any values are missing, and then print the head of the data frame."
   ]
  },
  {
   "cell_type": "code",
   "execution_count": 3,
   "metadata": {
    "scrolled": false
   },
   "outputs": [
    {
     "data": {
      "text/plain": [
       "'----------------------------------------------------------------------------------------------------'"
      ]
     },
     "metadata": {},
     "output_type": "display_data"
    },
    {
     "data": {
      "text/plain": [
       "gdp_growth                 False\n",
       "gross_capital_formation    False\n",
       "pop_growth                 False\n",
       "birth_rate                 False\n",
       "broad_money_growth         False\n",
       "final_consum_growth        False\n",
       "gov_final_consum_growth    False\n",
       "gross_cap_form_growth      False\n",
       "hh_consum_growth           False\n",
       "unemployment               False\n",
       "dtype: bool"
      ]
     },
     "metadata": {},
     "output_type": "display_data"
    },
    {
     "data": {
      "text/plain": [
       "'----------------------------------------------------------------------------------------------------'"
      ]
     },
     "metadata": {},
     "output_type": "display_data"
    },
    {
     "data": {
      "text/html": [
       "<div>\n",
       "<style scoped>\n",
       "    .dataframe tbody tr th:only-of-type {\n",
       "        vertical-align: middle;\n",
       "    }\n",
       "\n",
       "    .dataframe tbody tr th {\n",
       "        vertical-align: top;\n",
       "    }\n",
       "\n",
       "    .dataframe thead th {\n",
       "        text-align: right;\n",
       "    }\n",
       "</style>\n",
       "<table border=\"1\" class=\"dataframe\">\n",
       "  <thead>\n",
       "    <tr style=\"text-align: right;\">\n",
       "      <th></th>\n",
       "      <th>gdp_growth</th>\n",
       "      <th>gross_capital_formation</th>\n",
       "      <th>pop_growth</th>\n",
       "      <th>birth_rate</th>\n",
       "      <th>broad_money_growth</th>\n",
       "      <th>final_consum_growth</th>\n",
       "      <th>gov_final_consum_growth</th>\n",
       "      <th>gross_cap_form_growth</th>\n",
       "      <th>hh_consum_growth</th>\n",
       "      <th>unemployment</th>\n",
       "    </tr>\n",
       "    <tr>\n",
       "      <th>Year</th>\n",
       "      <th></th>\n",
       "      <th></th>\n",
       "      <th></th>\n",
       "      <th></th>\n",
       "      <th></th>\n",
       "      <th></th>\n",
       "      <th></th>\n",
       "      <th></th>\n",
       "      <th></th>\n",
       "      <th></th>\n",
       "    </tr>\n",
       "  </thead>\n",
       "  <tbody>\n",
       "    <tr>\n",
       "      <th>1969</th>\n",
       "      <td>14.541235</td>\n",
       "      <td>29.943577</td>\n",
       "      <td>2.263434</td>\n",
       "      <td>30.663</td>\n",
       "      <td>60.984733</td>\n",
       "      <td>10.693249</td>\n",
       "      <td>10.640799</td>\n",
       "      <td>29.908118</td>\n",
       "      <td>10.700325</td>\n",
       "      <td>4.86</td>\n",
       "    </tr>\n",
       "    <tr>\n",
       "      <th>1970</th>\n",
       "      <td>9.997407</td>\n",
       "      <td>26.338200</td>\n",
       "      <td>2.184174</td>\n",
       "      <td>31.200</td>\n",
       "      <td>27.422864</td>\n",
       "      <td>10.161539</td>\n",
       "      <td>7.279573</td>\n",
       "      <td>0.058667</td>\n",
       "      <td>10.557300</td>\n",
       "      <td>4.51</td>\n",
       "    </tr>\n",
       "    <tr>\n",
       "      <th>1971</th>\n",
       "      <td>10.454693</td>\n",
       "      <td>25.558501</td>\n",
       "      <td>1.971324</td>\n",
       "      <td>31.200</td>\n",
       "      <td>20.844481</td>\n",
       "      <td>9.330434</td>\n",
       "      <td>8.610547</td>\n",
       "      <td>15.172870</td>\n",
       "      <td>9.426969</td>\n",
       "      <td>4.57</td>\n",
       "    </tr>\n",
       "    <tr>\n",
       "      <th>1972</th>\n",
       "      <td>7.150715</td>\n",
       "      <td>21.404761</td>\n",
       "      <td>1.875999</td>\n",
       "      <td>28.400</td>\n",
       "      <td>33.815028</td>\n",
       "      <td>5.788458</td>\n",
       "      <td>8.134824</td>\n",
       "      <td>-13.056701</td>\n",
       "      <td>5.471355</td>\n",
       "      <td>4.59</td>\n",
       "    </tr>\n",
       "    <tr>\n",
       "      <th>1973</th>\n",
       "      <td>14.827554</td>\n",
       "      <td>25.872858</td>\n",
       "      <td>1.768293</td>\n",
       "      <td>28.300</td>\n",
       "      <td>36.415629</td>\n",
       "      <td>8.089952</td>\n",
       "      <td>2.287729</td>\n",
       "      <td>32.098276</td>\n",
       "      <td>8.927295</td>\n",
       "      <td>4.04</td>\n",
       "    </tr>\n",
       "  </tbody>\n",
       "</table>\n",
       "</div>"
      ],
      "text/plain": [
       "      gdp_growth  gross_capital_formation  pop_growth  birth_rate  \\\n",
       "Year                                                                \n",
       "1969   14.541235                29.943577    2.263434      30.663   \n",
       "1970    9.997407                26.338200    2.184174      31.200   \n",
       "1971   10.454693                25.558501    1.971324      31.200   \n",
       "1972    7.150715                21.404761    1.875999      28.400   \n",
       "1973   14.827554                25.872858    1.768293      28.300   \n",
       "\n",
       "      broad_money_growth  final_consum_growth  gov_final_consum_growth  \\\n",
       "Year                                                                     \n",
       "1969           60.984733            10.693249                10.640799   \n",
       "1970           27.422864            10.161539                 7.279573   \n",
       "1971           20.844481             9.330434                 8.610547   \n",
       "1972           33.815028             5.788458                 8.134824   \n",
       "1973           36.415629             8.089952                 2.287729   \n",
       "\n",
       "      gross_cap_form_growth  hh_consum_growth  unemployment  \n",
       "Year                                                         \n",
       "1969              29.908118         10.700325          4.86  \n",
       "1970               0.058667         10.557300          4.51  \n",
       "1971              15.172870          9.426969          4.57  \n",
       "1972             -13.056701          5.471355          4.59  \n",
       "1973              32.098276          8.927295          4.04  "
      ]
     },
     "metadata": {},
     "output_type": "display_data"
    }
   ],
   "source": [
    "# load the data and replace the '..' with nan\n",
    "econ_df = pd.read_excel('korea_data.xlsx')\n",
    "econ_df = econ_df.replace('..','nan')\n",
    "\n",
    "# set the index to the year column\n",
    "econ_df = econ_df.set_index('Year')\n",
    "\n",
    "# set the data type and select rows up to 2016\n",
    "econ_df = econ_df.astype(float)\n",
    "econ_df = econ_df.loc['1969':'2016']\n",
    "\n",
    "column_names = {'Unemployment, total (% of total labor force) (national estimate)':'unemployment',\n",
    "                'GDP growth (annual %)': 'gdp_growth',\n",
    "                'Gross capital formation (% of GDP)':'gross_capital_formation',\n",
    "                'Population growth (annual %)':'pop_growth', \n",
    "                'Birth rate, crude (per 1,000 people)':'birth_rate',\n",
    "                'Broad money growth (annual %)':'broad_money_growth',                \n",
    "                'Final consumption expenditure (% of GDP)':'final_consum_gdp',\n",
    "                'Final consumption expenditure (annual % growth)':'final_consum_growth',\n",
    "                'General government final consumption expenditure (annual % growth)':'gov_final_consum_growth',\n",
    "                'Gross capital formation (annual % growth)':'gross_cap_form_growth',\n",
    "                'Households and NPISHs Final consumption expenditure (annual % growth)':'hh_consum_growth'}\n",
    "\n",
    "# rename columns\n",
    "econ_df = econ_df.rename(columns = column_names)\n",
    "\n",
    "# check for nulls\n",
    "display('-'*100)\n",
    "display(econ_df.isnull().any())\n",
    "\n",
    "# display the first five rows\n",
    "display('-'*100)\n",
    "display(econ_df.head())"
   ]
  },
  {
   "cell_type": "markdown",
   "metadata": {},
   "source": [
    "## Section Three: Check for Perfect Multicollinearity\n",
    "\n",
    "One of the first things we can do after loading our data is to validate one of the assumptions of our model; in this case, we will be checking for multicollinearity.\n",
    "\n",
    "### What is multicollinearity?\n",
    "One of the assumptions of our model is that there isn't any Perfect multicollinearity. Multicollinearity is where one of the explanatory variables is highly correlated with another explanatory variable. **In essence, one of the X variables is almost perfectly correlated with another or multiple X variables.**\n",
    "\n",
    "### What is the problem with multicollinearity?\n",
    "The problem with multicollinearity, from a math perspective, is that the coefficient estimates themselves tend to be unreliable. Additionally, the standard errors of slope coefficients become artificially inflated. **Because the standard error is used to help calculate the p-value, this leads to a higher probability that we will incorrectly conclude that a variable is not statistically significant.**\n",
    "\n",
    "Another way we can look at this problem is by using an analogy. Imagine we ask you to go to a concert and determine who was the best singer. This task would become very challenging if you couldn't distinguish the two singers because they are singing at the same volume. **The idea is the same in our analysis, how can we determine which variable is playing a role in our model if we can't distinguish the two? The problem is we can't.**\n",
    "\n",
    "Now a little correlation is fine, but if it gets too high, we can effectively distinguish the two variables. The other issue that arises is that when we have highly correlated exploratory variables is that, in a sense, we have duplicates. This means that we can remove one of them and we haven't lost anything; the model would still perform the same.\n",
    "\n",
    "### How to test for multicollinearity?\n",
    "Because of these drawbacks, we should always check for multicollinearity in our data. Now, in the step above I purposely pull in variables that I knew would be highly correlated with each other; that way we could see some examples of variables that would cause some issues.\n",
    "\n",
    "The first thing we can do is create a correlation matrix using the `corr()`  function; this will create a matrix with each variable having its correlation calculated for all the other variables. Keep in mind, if you travel diagonally down the matrix all the associations should be one, as it is calculating the correlation of the variable with itself. When we have multiple variables as we do, I sometimes prefer to use a correlation heatmap this way I can quickly identify the highly correlated variables, by just looking for the darker colors."
   ]
  },
  {
   "cell_type": "code",
   "execution_count": 27,
   "metadata": {},
   "outputs": [
    {
     "data": {
      "text/html": [
       "<div>\n",
       "<style scoped>\n",
       "    .dataframe tbody tr th:only-of-type {\n",
       "        vertical-align: middle;\n",
       "    }\n",
       "\n",
       "    .dataframe tbody tr th {\n",
       "        vertical-align: top;\n",
       "    }\n",
       "\n",
       "    .dataframe thead th {\n",
       "        text-align: right;\n",
       "    }\n",
       "</style>\n",
       "<table border=\"1\" class=\"dataframe\">\n",
       "  <thead>\n",
       "    <tr style=\"text-align: right;\">\n",
       "      <th></th>\n",
       "      <th>gdp_growth</th>\n",
       "      <th>gross_capital_formation</th>\n",
       "      <th>pop_growth</th>\n",
       "      <th>birth_rate</th>\n",
       "      <th>broad_money_growth</th>\n",
       "      <th>final_consum_growth</th>\n",
       "      <th>gov_final_consum_growth</th>\n",
       "      <th>gross_cap_form_growth</th>\n",
       "      <th>hh_consum_growth</th>\n",
       "      <th>unemployment</th>\n",
       "    </tr>\n",
       "  </thead>\n",
       "  <tbody>\n",
       "    <tr>\n",
       "      <th>gdp_growth</th>\n",
       "      <td>1.000000</td>\n",
       "      <td>0.086712</td>\n",
       "      <td>0.567216</td>\n",
       "      <td>0.553225</td>\n",
       "      <td>0.335249</td>\n",
       "      <td>0.855835</td>\n",
       "      <td>0.098183</td>\n",
       "      <td>0.825496</td>\n",
       "      <td>0.868848</td>\n",
       "      <td>-0.160783</td>\n",
       "    </tr>\n",
       "    <tr>\n",
       "      <th>gross_capital_formation</th>\n",
       "      <td>0.086712</td>\n",
       "      <td>1.000000</td>\n",
       "      <td>-0.215243</td>\n",
       "      <td>-0.241668</td>\n",
       "      <td>-0.163803</td>\n",
       "      <td>0.266617</td>\n",
       "      <td>0.118075</td>\n",
       "      <td>0.187885</td>\n",
       "      <td>0.268592</td>\n",
       "      <td>-0.618524</td>\n",
       "    </tr>\n",
       "    <tr>\n",
       "      <th>pop_growth</th>\n",
       "      <td>0.567216</td>\n",
       "      <td>-0.215243</td>\n",
       "      <td>1.000000</td>\n",
       "      <td>0.978754</td>\n",
       "      <td>0.548336</td>\n",
       "      <td>0.470449</td>\n",
       "      <td>0.357042</td>\n",
       "      <td>0.317556</td>\n",
       "      <td>0.442187</td>\n",
       "      <td>0.279486</td>\n",
       "    </tr>\n",
       "    <tr>\n",
       "      <th>birth_rate</th>\n",
       "      <td>0.553225</td>\n",
       "      <td>-0.241668</td>\n",
       "      <td>0.978754</td>\n",
       "      <td>1.000000</td>\n",
       "      <td>0.530563</td>\n",
       "      <td>0.458319</td>\n",
       "      <td>0.370517</td>\n",
       "      <td>0.305254</td>\n",
       "      <td>0.428266</td>\n",
       "      <td>0.313783</td>\n",
       "    </tr>\n",
       "    <tr>\n",
       "      <th>broad_money_growth</th>\n",
       "      <td>0.335249</td>\n",
       "      <td>-0.163803</td>\n",
       "      <td>0.548336</td>\n",
       "      <td>0.530563</td>\n",
       "      <td>1.000000</td>\n",
       "      <td>0.290507</td>\n",
       "      <td>0.287270</td>\n",
       "      <td>0.235561</td>\n",
       "      <td>0.267220</td>\n",
       "      <td>0.336335</td>\n",
       "    </tr>\n",
       "    <tr>\n",
       "      <th>final_consum_growth</th>\n",
       "      <td>0.855835</td>\n",
       "      <td>0.266617</td>\n",
       "      <td>0.470449</td>\n",
       "      <td>0.458319</td>\n",
       "      <td>0.290507</td>\n",
       "      <td>1.000000</td>\n",
       "      <td>0.323250</td>\n",
       "      <td>0.700392</td>\n",
       "      <td>0.993526</td>\n",
       "      <td>-0.299310</td>\n",
       "    </tr>\n",
       "    <tr>\n",
       "      <th>gov_final_consum_growth</th>\n",
       "      <td>0.098183</td>\n",
       "      <td>0.118075</td>\n",
       "      <td>0.357042</td>\n",
       "      <td>0.370517</td>\n",
       "      <td>0.287270</td>\n",
       "      <td>0.323250</td>\n",
       "      <td>1.000000</td>\n",
       "      <td>0.033376</td>\n",
       "      <td>0.216641</td>\n",
       "      <td>0.007940</td>\n",
       "    </tr>\n",
       "    <tr>\n",
       "      <th>gross_cap_form_growth</th>\n",
       "      <td>0.825496</td>\n",
       "      <td>0.187885</td>\n",
       "      <td>0.317556</td>\n",
       "      <td>0.305254</td>\n",
       "      <td>0.235561</td>\n",
       "      <td>0.700392</td>\n",
       "      <td>0.033376</td>\n",
       "      <td>1.000000</td>\n",
       "      <td>0.715021</td>\n",
       "      <td>-0.207261</td>\n",
       "    </tr>\n",
       "    <tr>\n",
       "      <th>hh_consum_growth</th>\n",
       "      <td>0.868848</td>\n",
       "      <td>0.268592</td>\n",
       "      <td>0.442187</td>\n",
       "      <td>0.428266</td>\n",
       "      <td>0.267220</td>\n",
       "      <td>0.993526</td>\n",
       "      <td>0.216641</td>\n",
       "      <td>0.715021</td>\n",
       "      <td>1.000000</td>\n",
       "      <td>-0.304797</td>\n",
       "    </tr>\n",
       "    <tr>\n",
       "      <th>unemployment</th>\n",
       "      <td>-0.160783</td>\n",
       "      <td>-0.618524</td>\n",
       "      <td>0.279486</td>\n",
       "      <td>0.313783</td>\n",
       "      <td>0.336335</td>\n",
       "      <td>-0.299310</td>\n",
       "      <td>0.007940</td>\n",
       "      <td>-0.207261</td>\n",
       "      <td>-0.304797</td>\n",
       "      <td>1.000000</td>\n",
       "    </tr>\n",
       "  </tbody>\n",
       "</table>\n",
       "</div>"
      ],
      "text/plain": [
       "                         gdp_growth  gross_capital_formation  pop_growth  \\\n",
       "gdp_growth                 1.000000                 0.086712    0.567216   \n",
       "gross_capital_formation    0.086712                 1.000000   -0.215243   \n",
       "pop_growth                 0.567216                -0.215243    1.000000   \n",
       "birth_rate                 0.553225                -0.241668    0.978754   \n",
       "broad_money_growth         0.335249                -0.163803    0.548336   \n",
       "final_consum_growth        0.855835                 0.266617    0.470449   \n",
       "gov_final_consum_growth    0.098183                 0.118075    0.357042   \n",
       "gross_cap_form_growth      0.825496                 0.187885    0.317556   \n",
       "hh_consum_growth           0.868848                 0.268592    0.442187   \n",
       "unemployment              -0.160783                -0.618524    0.279486   \n",
       "\n",
       "                         birth_rate  broad_money_growth  final_consum_growth  \\\n",
       "gdp_growth                 0.553225            0.335249             0.855835   \n",
       "gross_capital_formation   -0.241668           -0.163803             0.266617   \n",
       "pop_growth                 0.978754            0.548336             0.470449   \n",
       "birth_rate                 1.000000            0.530563             0.458319   \n",
       "broad_money_growth         0.530563            1.000000             0.290507   \n",
       "final_consum_growth        0.458319            0.290507             1.000000   \n",
       "gov_final_consum_growth    0.370517            0.287270             0.323250   \n",
       "gross_cap_form_growth      0.305254            0.235561             0.700392   \n",
       "hh_consum_growth           0.428266            0.267220             0.993526   \n",
       "unemployment               0.313783            0.336335            -0.299310   \n",
       "\n",
       "                         gov_final_consum_growth  gross_cap_form_growth  \\\n",
       "gdp_growth                              0.098183               0.825496   \n",
       "gross_capital_formation                 0.118075               0.187885   \n",
       "pop_growth                              0.357042               0.317556   \n",
       "birth_rate                              0.370517               0.305254   \n",
       "broad_money_growth                      0.287270               0.235561   \n",
       "final_consum_growth                     0.323250               0.700392   \n",
       "gov_final_consum_growth                 1.000000               0.033376   \n",
       "gross_cap_form_growth                   0.033376               1.000000   \n",
       "hh_consum_growth                        0.216641               0.715021   \n",
       "unemployment                            0.007940              -0.207261   \n",
       "\n",
       "                         hh_consum_growth  unemployment  \n",
       "gdp_growth                       0.868848     -0.160783  \n",
       "gross_capital_formation          0.268592     -0.618524  \n",
       "pop_growth                       0.442187      0.279486  \n",
       "birth_rate                       0.428266      0.313783  \n",
       "broad_money_growth               0.267220      0.336335  \n",
       "final_consum_growth              0.993526     -0.299310  \n",
       "gov_final_consum_growth          0.216641      0.007940  \n",
       "gross_cap_form_growth            0.715021     -0.207261  \n",
       "hh_consum_growth                 1.000000     -0.304797  \n",
       "unemployment                    -0.304797      1.000000  "
      ]
     },
     "metadata": {},
     "output_type": "display_data"
    },
    {
     "data": {
      "text/plain": [
       "<matplotlib.axes._subplots.AxesSubplot at 0x1f13cec35f8>"
      ]
     },
     "execution_count": 27,
     "metadata": {},
     "output_type": "execute_result"
    },
    {
     "data": {
      "image/png": "[encoded data removed]",
      "text/plain": [
       "<Figure size 432x288 with 2 Axes>"
      ]
     },
     "metadata": {
      "needs_background": "light"
     },
     "output_type": "display_data"
    }
   ],
   "source": [
    "# calculate the correlation matrix\n",
    "corr = econ_df.corr()\n",
    "\n",
    "# display the correlation matrix\n",
    "display(corr)\n",
    "\n",
    "# plot the correlation heatmap\n",
    "sns.heatmap(corr, xticklabels=corr.columns, yticklabels=corr.columns, cmap='RdBu')"
   ]
  },
  {
   "cell_type": "markdown",
   "metadata": {},
   "source": [
    "***\n",
    "Looking at the heatmap along with the correlation matrix we can identify a few highly correlated variables. For example, if you look at the correlation between `birth_rate` and `pop_growth` it ends up at almost .98. This is an extremely high correlation and marks it as a candidate to be removed. Logically it makes sense that these two are highly correlated; if you're having more babies, then the population should be increasing.\n",
    "\n",
    "However, we should be more systematic in our approach to removing highly correlated variables. One method we can use is the `variance_inflation_factor` which **is a measure of how much a particular variable is contributing to the standard error in the regression model. When significant multicollinearity exists, the variance inflation factor will be huge for the variables in the calculation.**\n",
    "\n",
    "A general recommendation is that if any of our variables come back with a **value of 5 or higher, then they should be removed from the model.** I decided to show you how the VFI comes out before we drop the highly correlated variables and after we remove the highly correlated variables. Going forward in the tutorial we will only be using the `econ_df_after` data frame."
   ]
  },
  {
   "cell_type": "code",
   "execution_count": 28,
   "metadata": {},
   "outputs": [
    {
     "name": "stdout",
     "output_type": "stream",
     "text": [
      "DATA BEFORE\n",
      "----------------------------------------------------------------------------------------------------\n"
     ]
    },
    {
     "name": "stderr",
     "output_type": "stream",
     "text": [
      "C:\\Users\\Alex\\Anaconda3\\lib\\site-packages\\numpy\\core\\fromnumeric.py:2389: FutureWarning: Method .ptp is deprecated and will be removed in a future version. Use numpy.ptp instead.\n",
      "  return ptp(axis=axis, out=out, **kwargs)\n"
     ]
    },
    {
     "data": {
      "text/plain": [
       "const                       314.550195\n",
       "gdp_growth                    9.807879\n",
       "gross_capital_formation       2.430057\n",
       "pop_growth                   25.759263\n",
       "birth_rate                   26.174368\n",
       "broad_money_growth            1.633079\n",
       "final_consum_growth        2305.724583\n",
       "gov_final_consum_growth      32.527332\n",
       "gross_cap_form_growth         3.796420\n",
       "hh_consum_growth           2129.093634\n",
       "unemployment                  2.800008\n",
       "dtype: float64"
      ]
     },
     "metadata": {},
     "output_type": "display_data"
    },
    {
     "name": "stdout",
     "output_type": "stream",
     "text": [
      "DATA AFTER\n",
      "----------------------------------------------------------------------------------------------------\n"
     ]
    },
    {
     "data": {
      "text/plain": [
       "const                      27.891150\n",
       "pop_growth                  1.971299\n",
       "broad_money_growth          1.604644\n",
       "gov_final_consum_growth     1.232229\n",
       "gross_cap_form_growth       2.142992\n",
       "hh_consum_growth            2.782698\n",
       "unemployment                1.588410\n",
       "dtype: float64"
      ]
     },
     "metadata": {},
     "output_type": "display_data"
    }
   ],
   "source": [
    "# define two data frames one before the drop and one after the drop\n",
    "econ_df_before = econ_df\n",
    "econ_df_after = econ_df.drop(['gdp_growth','birth_rate', 'final_consum_growth','gross_capital_formation'], axis = 1)\n",
    "\n",
    "# the VFI does expect a constant term in the data, so we need to add one using the add_constant method\n",
    "X1 = sm.tools.add_constant(econ_df_before)\n",
    "X2 = sm.tools.add_constant(econ_df_after)\n",
    "\n",
    "# create the series for both\n",
    "series_before = pd.Series([variance_inflation_factor(X1.values, i) for i in range(X1.shape[1])], index=X1.columns)\n",
    "series_after = pd.Series([variance_inflation_factor(X2.values, i) for i in range(X2.shape[1])], index=X2.columns)\n",
    "\n",
    "# display the series\n",
    "print('DATA BEFORE')\n",
    "print('-'*100)\n",
    "display(series_before)\n",
    "\n",
    "print('DATA AFTER')\n",
    "print('-'*100)\n",
    "display(series_after)"
   ]
  },
  {
   "cell_type": "markdown",
   "metadata": {},
   "source": [
    "Looking at the data above we now get some confirmation about our suspicion. It makes sense to remove either `birth_rate` or `pop_growth` and some of the consumption growth metrics. Once we remove those metrics and recalculate the VFI, we get a passing grade and can move forward.\n",
    "\n",
    "*** \n",
    "I also want to demonstrate another way to visualize our data to check for multicollinearity. Inside of `pandas`, there is a `scatter_matrix` chart that will create a scatter plot for each variable in our dataset against another variable. This is a great tool for visualizing the correlation of one variable across all the other variables in the dataset. I'll take my econ_df_after and pass it through the `scatter_matrix` method. What you're looking for is a more random distribution, there shouldn't be any strong trends in the scatter matrix as this would be identifying correlated variables. Now, for our explanatory variable, we want to see trends!"
   ]
  },
  {
   "cell_type": "code",
   "execution_count": 29,
   "metadata": {},
   "outputs": [
    {
     "data": {
      "image/png": "[encoded data removed]",
      "text/plain": [
       "<Figure size 2160x1440 with 36 Axes>"
      ]
     },
     "metadata": {
      "needs_background": "light"
     },
     "output_type": "display_data"
    }
   ],
   "source": [
    "# define the plot\n",
    "pd.plotting.scatter_matrix(econ_df_after, alpha = 1, figsize = (30, 20))\n",
    "\n",
    "# show the plot\n",
    "plt.show()"
   ]
  },
  {
   "cell_type": "markdown",
   "metadata": {},
   "source": [
    "***\n",
    "## Section Four: Describe the Data Set\n",
    "Before we get to an in-depth exploration of the data or even building the model, we should explore the data a little more and see how the data is distributed and if there are any outliers. I will be adding a few more metrics to the `summary data frame`, sp that it now includes a metric for three standard deviations below and above the mean.\n",
    "\n",
    "I'll store my information in a new variable called `desc_df`."
   ]
  },
  {
   "cell_type": "code",
   "execution_count": 30,
   "metadata": {},
   "outputs": [
    {
     "data": {
      "text/html": [
       "<div>\n",
       "<style scoped>\n",
       "    .dataframe tbody tr th:only-of-type {\n",
       "        vertical-align: middle;\n",
       "    }\n",
       "\n",
       "    .dataframe tbody tr th {\n",
       "        vertical-align: top;\n",
       "    }\n",
       "\n",
       "    .dataframe thead th {\n",
       "        text-align: right;\n",
       "    }\n",
       "</style>\n",
       "<table border=\"1\" class=\"dataframe\">\n",
       "  <thead>\n",
       "    <tr style=\"text-align: right;\">\n",
       "      <th></th>\n",
       "      <th>gdp_growth</th>\n",
       "      <th>gross_capital_formation</th>\n",
       "      <th>pop_growth</th>\n",
       "      <th>birth_rate</th>\n",
       "      <th>broad_money_growth</th>\n",
       "      <th>final_consum_growth</th>\n",
       "      <th>gov_final_consum_growth</th>\n",
       "      <th>gross_cap_form_growth</th>\n",
       "      <th>hh_consum_growth</th>\n",
       "      <th>unemployment</th>\n",
       "    </tr>\n",
       "  </thead>\n",
       "  <tbody>\n",
       "    <tr>\n",
       "      <th>count</th>\n",
       "      <td>48.000000</td>\n",
       "      <td>48.000000</td>\n",
       "      <td>48.000000</td>\n",
       "      <td>48.000000</td>\n",
       "      <td>48.000000</td>\n",
       "      <td>48.000000</td>\n",
       "      <td>48.000000</td>\n",
       "      <td>48.000000</td>\n",
       "      <td>48.000000</td>\n",
       "      <td>48.000000</td>\n",
       "    </tr>\n",
       "    <tr>\n",
       "      <th>mean</th>\n",
       "      <td>7.280315</td>\n",
       "      <td>32.433236</td>\n",
       "      <td>1.058072</td>\n",
       "      <td>16.340896</td>\n",
       "      <td>20.426621</td>\n",
       "      <td>5.820239</td>\n",
       "      <td>5.419214</td>\n",
       "      <td>8.965681</td>\n",
       "      <td>5.879176</td>\n",
       "      <td>3.678096</td>\n",
       "    </tr>\n",
       "    <tr>\n",
       "      <th>std</th>\n",
       "      <td>4.209306</td>\n",
       "      <td>4.136932</td>\n",
       "      <td>0.514039</td>\n",
       "      <td>6.814683</td>\n",
       "      <td>14.748442</td>\n",
       "      <td>3.627444</td>\n",
       "      <td>2.622254</td>\n",
       "      <td>12.629912</td>\n",
       "      <td>4.227720</td>\n",
       "      <td>0.968616</td>\n",
       "    </tr>\n",
       "    <tr>\n",
       "      <th>min</th>\n",
       "      <td>-5.471219</td>\n",
       "      <td>21.404761</td>\n",
       "      <td>0.211998</td>\n",
       "      <td>7.900000</td>\n",
       "      <td>2.980690</td>\n",
       "      <td>-9.288825</td>\n",
       "      <td>0.560957</td>\n",
       "      <td>-29.403255</td>\n",
       "      <td>-11.894309</td>\n",
       "      <td>2.048000</td>\n",
       "    </tr>\n",
       "    <tr>\n",
       "      <th>25%</th>\n",
       "      <td>4.374899</td>\n",
       "      <td>29.776910</td>\n",
       "      <td>0.615602</td>\n",
       "      <td>9.950000</td>\n",
       "      <td>10.586461</td>\n",
       "      <td>3.591334</td>\n",
       "      <td>3.384407</td>\n",
       "      <td>2.114078</td>\n",
       "      <td>3.825773</td>\n",
       "      <td>3.150475</td>\n",
       "    </tr>\n",
       "    <tr>\n",
       "      <th>50%</th>\n",
       "      <td>7.513471</td>\n",
       "      <td>32.335229</td>\n",
       "      <td>0.985132</td>\n",
       "      <td>15.150000</td>\n",
       "      <td>17.807598</td>\n",
       "      <td>6.531163</td>\n",
       "      <td>5.056509</td>\n",
       "      <td>7.431966</td>\n",
       "      <td>6.999971</td>\n",
       "      <td>3.700000</td>\n",
       "    </tr>\n",
       "    <tr>\n",
       "      <th>75%</th>\n",
       "      <td>10.376191</td>\n",
       "      <td>34.474874</td>\n",
       "      <td>1.525765</td>\n",
       "      <td>21.750000</td>\n",
       "      <td>26.923837</td>\n",
       "      <td>8.179037</td>\n",
       "      <td>7.188470</td>\n",
       "      <td>16.210283</td>\n",
       "      <td>8.938837</td>\n",
       "      <td>4.088500</td>\n",
       "    </tr>\n",
       "    <tr>\n",
       "      <th>max</th>\n",
       "      <td>14.827554</td>\n",
       "      <td>41.374062</td>\n",
       "      <td>2.263434</td>\n",
       "      <td>31.200000</td>\n",
       "      <td>85.203081</td>\n",
       "      <td>10.834413</td>\n",
       "      <td>11.742807</td>\n",
       "      <td>32.098276</td>\n",
       "      <td>11.711835</td>\n",
       "      <td>6.963000</td>\n",
       "    </tr>\n",
       "    <tr>\n",
       "      <th>+3_std</th>\n",
       "      <td>19.908232</td>\n",
       "      <td>44.844034</td>\n",
       "      <td>2.600188</td>\n",
       "      <td>36.784945</td>\n",
       "      <td>64.671947</td>\n",
       "      <td>16.702571</td>\n",
       "      <td>13.285976</td>\n",
       "      <td>46.855416</td>\n",
       "      <td>18.562336</td>\n",
       "      <td>6.583944</td>\n",
       "    </tr>\n",
       "    <tr>\n",
       "      <th>-3_std</th>\n",
       "      <td>-5.347602</td>\n",
       "      <td>20.022439</td>\n",
       "      <td>-0.484044</td>\n",
       "      <td>-4.103153</td>\n",
       "      <td>-23.818705</td>\n",
       "      <td>-5.062092</td>\n",
       "      <td>-2.447547</td>\n",
       "      <td>-28.924054</td>\n",
       "      <td>-6.803985</td>\n",
       "      <td>0.772247</td>\n",
       "    </tr>\n",
       "  </tbody>\n",
       "</table>\n",
       "</div>"
      ],
      "text/plain": [
       "        gdp_growth  gross_capital_formation  pop_growth  birth_rate  \\\n",
       "count    48.000000                48.000000   48.000000   48.000000   \n",
       "mean      7.280315                32.433236    1.058072   16.340896   \n",
       "std       4.209306                 4.136932    0.514039    6.814683   \n",
       "min      -5.471219                21.404761    0.211998    7.900000   \n",
       "25%       4.374899                29.776910    0.615602    9.950000   \n",
       "50%       7.513471                32.335229    0.985132   15.150000   \n",
       "75%      10.376191                34.474874    1.525765   21.750000   \n",
       "max      14.827554                41.374062    2.263434   31.200000   \n",
       "+3_std   19.908232                44.844034    2.600188   36.784945   \n",
       "-3_std   -5.347602                20.022439   -0.484044   -4.103153   \n",
       "\n",
       "        broad_money_growth  final_consum_growth  gov_final_consum_growth  \\\n",
       "count            48.000000            48.000000                48.000000   \n",
       "mean             20.426621             5.820239                 5.419214   \n",
       "std              14.748442             3.627444                 2.622254   \n",
       "min               2.980690            -9.288825                 0.560957   \n",
       "25%              10.586461             3.591334                 3.384407   \n",
       "50%              17.807598             6.531163                 5.056509   \n",
       "75%              26.923837             8.179037                 7.188470   \n",
       "max              85.203081            10.834413                11.742807   \n",
       "+3_std           64.671947            16.702571                13.285976   \n",
       "-3_std          -23.818705            -5.062092                -2.447547   \n",
       "\n",
       "        gross_cap_form_growth  hh_consum_growth  unemployment  \n",
       "count               48.000000         48.000000     48.000000  \n",
       "mean                 8.965681          5.879176      3.678096  \n",
       "std                 12.629912          4.227720      0.968616  \n",
       "min                -29.403255        -11.894309      2.048000  \n",
       "25%                  2.114078          3.825773      3.150475  \n",
       "50%                  7.431966          6.999971      3.700000  \n",
       "75%                 16.210283          8.938837      4.088500  \n",
       "max                 32.098276         11.711835      6.963000  \n",
       "+3_std              46.855416         18.562336      6.583944  \n",
       "-3_std             -28.924054         -6.803985      0.772247  "
      ]
     },
     "execution_count": 30,
     "metadata": {},
     "output_type": "execute_result"
    }
   ],
   "source": [
    "# get the summary\n",
    "desc_df = econ_df.describe()\n",
    "\n",
    "# add the standard deviation metric\n",
    "desc_df.loc['+3_std'] = desc_df.loc['mean'] + (desc_df.loc['std'] * 3)\n",
    "desc_df.loc['-3_std'] = desc_df.loc['mean'] - (desc_df.loc['std'] * 3)\n",
    "\n",
    "# display it\n",
    "desc_df"
   ]
  },
  {
   "cell_type": "markdown",
   "metadata": {},
   "source": [
    "***\n",
    "One thing that I want to mention is that we have only 50 observations, but 6 (minus the 3 we dropped) exploratory variables. Many people would argue that we need more data to have this many exploratory variables and to be honest, they are correct. **Generally we should aim for at least 20 instances for each variable; however, some argue only 10 would do.** Regardless, we will see at the end of our model that we only end up with 4 exploratory variables so that we will satisfy that rule.\n",
    "\n",
    "Looking at the data frame up above, a few values are standing out, for example, the maximum value in the `broad_money_growth` column is almost four standard deviations above the mean. Such an enormous value would qualify as an outlier.\n",
    "\n",
    "### Filtering the Dataset\n",
    "To drop or not to drop, that is the question. Generally, if we believe the data has been entered in error, we should remove it. However, in this situation, the values that are being identified as outliers are correct values and are not errors. Both of these values were produced during specific moments in time. The one in 1998 was right after the Asian Financial Crisis, and the one in 2001 is right after the DotCom Bubble, so it's entirely conceivable that these values were produced in extreme albeit rare conditions. **For this reason, I will NOT be removing these values from the dataset as they recognize actual values that took place.**\n",
    "\n",
    "Imagine if we wanted to remove the values that have an amount exceeding three standard deviations. How would we approach this? Well, if we leverage the `numpy` module and the `scipy` module we can filter out the rows using the `stats.zscore`  function. The Z-score is the number of standard deviations from the mean a data point is, so if it's less than 3 we keep it otherwise we drop it. From here, I also provided a way to let us know what rows were removed by using the `index.difference` the function which will show the difference between the two datasets."
   ]
  },
  {
   "cell_type": "code",
   "execution_count": 31,
   "metadata": {},
   "outputs": [
    {
     "data": {
      "text/plain": [
       "Int64Index([1998, 2001], dtype='int64', name='Year')"
      ]
     },
     "execution_count": 31,
     "metadata": {},
     "output_type": "execute_result"
    }
   ],
   "source": [
    "# filter the data frame to remove the values exceeding 3 standard deviations\n",
    "econ_remove_df = econ_df[(np.abs(stats.zscore(econ_df)) < 3).all(axis=1)]\n",
    "\n",
    "# what rows were removed\n",
    "econ_df.index.difference(econ_remove_df.index)"
   ]
  },
  {
   "cell_type": "markdown",
   "metadata": {},
   "source": [
    "***\n",
    "## Section Five: Build the Model\n",
    "Okay, now that we've loaded, cleaned, and explored the data we can proceed to the next part, building the model. The first thing we need to do is, define our exploratory variables and our explanatory variable. From here, let's split the data into a training and testing set; a healthy ratio is 20% testing and 80% training but a 30% 70% split is also ok.\n",
    "\n",
    "After splitting the data, we will create an instance of the linear regression model and pass through the `X_train` and `y_train` variables using the `fit()` function."
   ]
  },
  {
   "cell_type": "code",
   "execution_count": 32,
   "metadata": {},
   "outputs": [
    {
     "data": {
      "text/plain": [
       "LinearRegression(copy_X=True, fit_intercept=True, n_jobs=None,\n",
       "         normalize=False)"
      ]
     },
     "execution_count": 32,
     "metadata": {},
     "output_type": "execute_result"
    }
   ],
   "source": [
    "# define our input variable (X) & output variable\n",
    "econ_df_after = econ_df.drop(['birth_rate', 'final_consum_growth','gross_capital_formation'], axis = 1)\n",
    "\n",
    "X = econ_df_after.drop('gdp_growth', axis = 1)\n",
    "Y = econ_df_after[['gdp_growth']]\n",
    "\n",
    "# Split X and y into X_\n",
    "X_train, X_test, y_train, y_test = train_test_split(X, Y, test_size=0.20, random_state=1)\n",
    "\n",
    "# create a Linear Regression model object\n",
    "regression_model = LinearRegression()\n",
    "\n",
    "# pass through the X_train & y_train data set\n",
    "regression_model.fit(X_train, y_train)"
   ]
  },
  {
   "cell_type": "markdown",
   "metadata": {},
   "source": [
    "***\n",
    "### Exploring the Output\n",
    "With the data now fitted to the model, we can explore the output. The first thing we should do is look at the intercept of the model, and then we will print out each of the coefficients of the model. I print everything out using a loop to make it more efficient."
   ]
  },
  {
   "cell_type": "code",
   "execution_count": 33,
   "metadata": {},
   "outputs": [
    {
     "name": "stdout",
     "output_type": "stream",
     "text": [
      "The intercept for our model is 2.08\n",
      "----------------------------------------------------------------------------------------------------\n",
      "The Coefficient for pop_growth is 2.0\n",
      "The Coefficient for broad_money_growth is -0.0017\n",
      "The Coefficient for gov_final_consum_growth is -0.21\n",
      "The Coefficient for gross_cap_form_growth is 0.14\n",
      "The Coefficient for hh_consum_growth is 0.51\n",
      "The Coefficient for unemployment is 0.027\n"
     ]
    }
   ],
   "source": [
    "# let's grab the coefficient of our model and the intercept\n",
    "intercept = regression_model.intercept_[0]\n",
    "coefficent = regression_model.coef_[0][0]\n",
    "\n",
    "print(\"The intercept for our model is {:.4}\".format(intercept))\n",
    "print('-'*100)\n",
    "\n",
    "# loop through the dictionary and print the data\n",
    "for coef in zip(X.columns, regression_model.coef_[0]):\n",
    "    print(\"The Coefficient for {} is {:.2}\".format(coef[0],coef[1]))"
   ]
  },
  {
   "cell_type": "markdown",
   "metadata": {},
   "source": [
    "**The intercept term is the value of the dependent variable when all the independent variables are equal to zero. For each slope coefficient, it is the estimated change in the dependent variable for a one unit change in that particular independent variable, holding the other independent variables constant.**\n",
    "\n",
    "For example, if all the independent variables were equal to zero, then the `gdp_growth` would be 2.08%. If we looked at the `gross_cap_form_growth` while *holding all the other independent variables constant*, then we would say for a 1 unit increase in `gross_cap_form_growth` would lead to a 0.14% increase in GDP growth.\n",
    "\n",
    "***\n",
    "We can also now make predictions with our newly trained model. The process is simple; we call the `predict` method and then pass through some values. In this case, we have some values predefined with the `x_test` variable so we will pass that through. Once we do that, we can select the predictions by slicing the array."
   ]
  },
  {
   "cell_type": "code",
   "execution_count": 34,
   "metadata": {},
   "outputs": [
    {
     "data": {
      "text/plain": [
       "array([[ 7.61317534],\n",
       "       [ 6.31344066],\n",
       "       [ 5.06818662],\n",
       "       [ 4.19869856],\n",
       "       [11.11885324]])"
      ]
     },
     "execution_count": 34,
     "metadata": {},
     "output_type": "execute_result"
    }
   ],
   "source": [
    "# Get multiple predictions\n",
    "y_predict = regression_model.predict(X_test)\n",
    "\n",
    "# Show the first 5 predictions\n",
    "y_predict[:5]"
   ]
  },
  {
   "cell_type": "markdown",
   "metadata": {},
   "source": [
    "***\n",
    "## Section Six: Evaluating the Model"
   ]
  },
  {
   "cell_type": "markdown",
   "metadata": {},
   "source": [
    "### Using the `Statsmodel`\n",
    "To make diagnosing the model easier, we will, from this point forward, be using the `statsmodel` module. This module has built-in functions that will make calculating metrics quick. However, we will need \"rebuild\" our model using the `statsmodel` module. We do this by creating a constant variable, call the `OLS()` method and then the `fit()` method. We now have a new model, and the first thing we need to do is to make sure that the assumptions of our model hold. This means checking the following:\n",
    "\n",
    "- Regression residuals must be normally distributed.\n",
    "- The residuals are homoscedastic\n",
    "- Absence of multicollinearity (we did this above).\n",
    "- No Autocorrelation."
   ]
  },
  {
   "cell_type": "code",
   "execution_count": 35,
   "metadata": {},
   "outputs": [
    {
     "name": "stderr",
     "output_type": "stream",
     "text": [
      "C:\\Users\\Alex\\Anaconda3\\lib\\site-packages\\numpy\\core\\fromnumeric.py:2389: FutureWarning: Method .ptp is deprecated and will be removed in a future version. Use numpy.ptp instead.\n",
      "  return ptp(axis=axis, out=out, **kwargs)\n"
     ]
    }
   ],
   "source": [
    "# define our intput\n",
    "X2 = sm.add_constant(X)\n",
    "\n",
    "# create a OLS model\n",
    "model = sm.OLS(Y, X2)\n",
    "\n",
    "# fit the data\n",
    "est = model.fit()"
   ]
  },
  {
   "cell_type": "markdown",
   "metadata": {},
   "source": [
    "## Checking for Heteroscedasticity\n",
    "### What is Heteroscedasticity?\n",
    "One of the assumptions of our model is that there is no heteroscedasticity. What exactly does this mean? Well, to give a simple definition it merely means the standard errors of a variable, monitored over a specific amount of time, are non-constant. Let's imagine a situation where heteroscedasticity could exist.\n",
    "\n",
    "Imagine we modeled household consumption based on income, something we would probably notice is how the variability of expenditures changes depending on how much income you have. In simple terms, we would see that households with more income spend money on a broader set of items compared to lower income households that would only be able to focus on the main staples. This results in standard errors that change over income levels.\n",
    "\n",
    "***\n",
    "\n",
    "### What is the problem with heteroscedasticity?\n",
    "There are two big reasons why you want homoscedasticity:\n",
    "\n",
    "1. While heteroscedasticity does not cause bias in the coefficient estimates, **it causes the coefficient estimates to be less precise.** The Lower precision increases the likelihood that the coefficient estimates are further from the correct population value.\n",
    "\n",
    "2. **Heteroscedasticity tends to produce p-values that are smaller than they should be.** This effect occurs because heteroscedasticity increases the variance of the coefficient estimates, but the OLS procedure does not detect this increase. Consequently, OLS calculates the t-values and F-values using an underestimated amount of variance. This problem can lead you to conclude that a model term is statistically significant when it is not significant.\n",
    "\n",
    "***\n",
    "\n",
    "### How to test for heteroscedasticity?\n",
    "To check for heteroscedasticity, we can leverage the `statsmodels.stats.diagnostic` module. This module will give us to a few test functions we can run, the Breusch-Pagan and the White test for heteroscedasticity. The **Breusch-Pagan is a more general test for heteroscedasticity while the White test is a unique case.**\n",
    "\n",
    "- The null hypothesis for both the White’s test and the Breusch-Pagan test is that the variances for the errors are equal:\n",
    "    - **H0 = σ2i = σ2**\n",
    "- The alternate hypothesis (the one you’re testing), is that the variances are not equal:\n",
    "    - **H1 = σ2i ≠ σ2**\n",
    "\n",
    "Our goal is to fail to reject the null hypothesis, have a high p-value because that means we have no heteroscedasticity."
   ]
  },
  {
   "cell_type": "code",
   "execution_count": 36,
   "metadata": {
    "scrolled": true
   },
   "outputs": [
    {
     "name": "stdout",
     "output_type": "stream",
     "text": [
      "0.43365711028667386 0.509081191858663\n",
      "----------------------------------------------------------------------------------------------------\n",
      "For the White's Test\n",
      "The p-value was 0.4337\n",
      "We fail to reject the null hypthoesis, so there is no heterosecdasticity. \n",
      "\n",
      "0.25183646701201695 0.2662794557854012\n",
      "----------------------------------------------------------------------------------------------------\n",
      "For the Breusch-Pagan's Test\n",
      "The p-value was 0.2518\n",
      "We fail to reject the null hypthoesis, so there is no heterosecdasticity.\n"
     ]
    }
   ],
   "source": [
    "# Run the White's test\n",
    "_, pval, __, f_pval = diag.het_white(est.resid, est.model.exog, retres = False)\n",
    "print(pval, f_pval)\n",
    "print('-'*100)\n",
    "\n",
    "# print the results of the test\n",
    "if pval > 0.05:\n",
    "    print(\"For the White's Test\")\n",
    "    print(\"The p-value was {:.4}\".format(pval))\n",
    "    print(\"We fail to reject the null hypthoesis, so there is no heterosecdasticity. \\n\")\n",
    "    \n",
    "else:\n",
    "    print(\"For the White's Test\")\n",
    "    print(\"The p-value was {:.4}\".format(pval))\n",
    "    print(\"We reject the null hypthoesis, so there is heterosecdasticity. \\n\")\n",
    "\n",
    "# Run the Breusch-Pagan test\n",
    "_, pval, __, f_pval = diag.het_breuschpagan(est.resid, est.model.exog)\n",
    "print(pval, f_pval)\n",
    "print('-'*100)\n",
    "\n",
    "# print the results of the test\n",
    "if pval > 0.05:\n",
    "    print(\"For the Breusch-Pagan's Test\")\n",
    "    print(\"The p-value was {:.4}\".format(pval))\n",
    "    print(\"We fail to reject the null hypthoesis, so there is no heterosecdasticity.\")\n",
    "\n",
    "else:\n",
    "    print(\"For the Breusch-Pagan's Test\")\n",
    "    print(\"The p-value was {:.4}\".format(pval))\n",
    "    print(\"We reject the null hypthoesis, so there is heterosecdasticity.\")\n",
    "\n"
   ]
  },
  {
   "cell_type": "markdown",
   "metadata": {},
   "source": [
    "## Checking for Autocorrelation\n",
    "### What is autocorrelation?\n",
    "Autocorrelation is a characteristic of data in which the correlation between the values of the same variables is based on related objects. It violates the assumption of instance independence, which underlies most of conventional models.  \n",
    "\n",
    "When you have a series of numbers, and there is a pattern such that values in the series can be predicted based on preceding values in the series, the set of numbers is said to exhibit autocorrelation. This is also known as serial correlation and serial dependence. It generally exists in those types of data-sets in which the data, instead of being randomly selected, are from the same source.\n",
    "\n",
    "***\n",
    "### What is the problem with autocorrelation?\n",
    "The existence of autocorrelation means that computed standard errors, and consequently p-values, are misleading. Autocorrelation in the residuals of a model is also a sign that the model may be unsound. A workaround is we can compute more robust standard errors.\n",
    "\n",
    "***\n",
    "### How to test for autocorrelation?\n",
    "Again, we will go to our favorite module the `statsmodels.stats.diagnostic` module, and use the Ljung-Box test for no autocorrelation of residuals. Here:\n",
    "\n",
    "- **H0: The data are random.**\n",
    "- **Ha: The data are not random.**\n",
    "\n",
    "That means we want to fail to reject the null hypothesis, have a large p-value because then it means we have no autocorrelation. To use the Ljung-Box test, we will call the `acorr_ljungbox` function, pass through the `est.resid` and then define the lags. \n",
    "\n",
    "The lags can either be calculated by the function itself, or we can calculate them. If the function handles it the max lag will be `min((num_obs // 2 - 2), 40)`, however, there is a rule of thumb that for non-seasonal time series the lag is ` min(10, (num_obs // 5))`.\n",
    "\n",
    "We also can visually check for autocorrelation by using the `statsmodels.graphics` module to plot a graph of the autocorrelation factor."
   ]
  },
  {
   "cell_type": "code",
   "execution_count": 37,
   "metadata": {},
   "outputs": [
    {
     "name": "stdout",
     "output_type": "stream",
     "text": [
      "The number of lags will be 9\n",
      "----------------------------------------------------------------------------------------------------\n",
      "The lowest p-value found was 0.1596\n",
      "We fail to reject the null hypthoesis, so there is no autocorrelation.\n",
      "----------------------------------------------------------------------------------------------------\n"
     ]
    },
    {
     "data": {
      "image/png": "[encoded data removed]",
      "text/plain": [
       "<Figure size 432x288 with 1 Axes>"
      ]
     },
     "metadata": {
      "needs_background": "light"
     },
     "output_type": "display_data"
    }
   ],
   "source": [
    "# test for autocorrelation\n",
    "from statsmodels.stats.stattools import durbin_watson\n",
    "\n",
    "# calculate the lag, optional\n",
    "lag = min(10, (len(X)//5))\n",
    "print('The number of lags will be {}'.format(lag))\n",
    "print('-'*100)\n",
    "\n",
    "# run the Ljung-Box test for no autocorrelation of residuals\n",
    "# test_results = diag.acorr_breusch_godfrey(est, nlags = lag, store = True)\n",
    "test_results = diag.acorr_ljungbox(est.resid, lags = lag)\n",
    "\n",
    "# grab the p-values and the test statistics\n",
    "ibvalue, p_val = test_results\n",
    "\n",
    "# print the results of the test\n",
    "if min(p_val) > 0.05:\n",
    "    print(\"The lowest p-value found was {:.4}\".format(min(p_val)))\n",
    "    print(\"We fail to reject the null hypthoesis, so there is no autocorrelation.\")\n",
    "    print('-'*100)\n",
    "else:\n",
    "    print(\"The lowest p-value found was {:.4}\".format(min(p_val)))\n",
    "    print(\"We reject the null hypthoesis, so there is autocorrelation.\")\n",
    "    print('-'*100)\n",
    "\n",
    "# plot autocorrelation\n",
    "sm.graphics.tsa.plot_acf(est.resid)\n",
    "plt.show()"
   ]
  },
  {
   "cell_type": "markdown",
   "metadata": {},
   "source": [
    "## Checking For Normally Distributed Residuals\n",
    "\n",
    "This one is easy to check for; we will do it visually. **This will require using a QQ pplot which help us assess if a set of data plausibly came from some theoretical distribution such as a Normal or exponential.** It’s just a visual check, not an air-tight proof, so it is somewhat subjective.\n",
    "\n",
    "Visually what we are looking for is the data hugs the line tightly; this would give us confidence in our assumption that the residuals are normally distributed. Now, it is highly unlikely that the data will perfectly hug the line, so this is where we have to be subjective.\n",
    "\n",
    "## Checking the Mean of the Residuals Equals 0\n",
    "\n",
    "Additionally, we need to check another assumption, that the mean of the residuals is equal to zero. If the mean is very close to zero, then we are good to proceed. Just a side note, it's not uncommon to get a mean that isn't exactly zero; this is because of rounding errors. However, if it's very close to zero, it's ok. In the example below, you will see that it doesn't come out exactly to zero."
   ]
  },
  {
   "cell_type": "code",
   "execution_count": 38,
   "metadata": {},
   "outputs": [
    {
     "data": {
      "image/png": "[encoded data removed]",
      "text/plain": [
       "<Figure size 432x288 with 1 Axes>"
      ]
     },
     "metadata": {
      "needs_background": "light"
     },
     "output_type": "display_data"
    },
    {
     "name": "stdout",
     "output_type": "stream",
     "text": [
      "The mean of the residuals is -2.861e-14\n"
     ]
    }
   ],
   "source": [
    "import pylab\n",
    "\n",
    "# check for the normality of the residuals\n",
    "sm.qqplot(est.resid, line='s')\n",
    "pylab.show()\n",
    "\n",
    "# also check that the mean of the residuals is approx. 0.\n",
    "mean_residuals = sum(est.resid)/ len(est.resid)\n",
    "print(\"The mean of the residuals is {:.4}\".format(mean_residuals))"
   ]
  },
  {
   "cell_type": "markdown",
   "metadata": {},
   "source": [
    "### Measures of Error\n",
    "\n",
    "We can examine how well our data fit the model, so we will take `y_predictions` and compare them to our `y_actuals` these will be our residuals. From here we can calculate a few metrics to help quantify how well our model fits the data. Here are a few popular metrics:\n",
    "\n",
    "- **Mean Absolute Error (MAE):** Is the mean of the absolute value of the errors. This gives an idea of magnitude but no sense of direction (too high or too low).\n",
    "\n",
    "- **Mean Squared Error (MSE):** Is the mean of the squared errors. MSE is more popular than MAE because MSE \"punishes\" more significant errors.\n",
    "\n",
    "- **Root Mean Squared Error (RMSE):** Is the square root of the mean of the squared errors. RMSE is even more favored because it allows us to interpret the output in y-units.\n",
    "\n",
    "Luckily for us, `sklearn` and `statsmodel` both contain functions that will calculate these metrics for us. The examples below were calculated using the `sklearn` library and the `math` library."
   ]
  },
  {
   "cell_type": "code",
   "execution_count": 39,
   "metadata": {},
   "outputs": [
    {
     "name": "stdout",
     "output_type": "stream",
     "text": [
      "MSE 0.707\n",
      "MAE 0.611\n",
      "RMSE 0.841\n"
     ]
    }
   ],
   "source": [
    "import math\n",
    "# calculate the mean squared error\n",
    "model_mse = mean_squared_error(y_test, y_predict)\n",
    "\n",
    "# calculate the mean absolute error\n",
    "model_mae = mean_absolute_error(y_test, y_predict)\n",
    "\n",
    "# calulcate the root mean squared error\n",
    "model_rmse =  math.sqrt(model_mse)\n",
    "\n",
    "# display the output\n",
    "print(\"MSE {:.3}\".format(model_mse))\n",
    "print(\"MAE {:.3}\".format(model_mae))\n",
    "print(\"RMSE {:.3}\".format(model_rmse))"
   ]
  },
  {
   "cell_type": "markdown",
   "metadata": {},
   "source": [
    "***\n",
    "### R-Squared\n",
    "The R-Squared metric provides us a way to measure the goodness of fit or, in other words, how well our data fits the model. The higher the R-Squared metric, the better the data fit our model. However, one limitation is that R-Square increases as the number of features increase in our model, so if I keep adding variables even if they're poor choices R-Squared will still go up! **A more popular metric is the adjusted R-Square which penalizes more complex models, or in other words models with more exploratory variables.** In the example below, I calculate the regular R-Squared value, however, the `statsmodel` summary will calculate the Adjusted R-Squared below."
   ]
  },
  {
   "cell_type": "code",
   "execution_count": 40,
   "metadata": {},
   "outputs": [
    {
     "name": "stdout",
     "output_type": "stream",
     "text": [
      "R2: 0.86\n"
     ]
    }
   ],
   "source": [
    "model_r2 = r2_score(y_test, y_predict)\n",
    "print(\"R2: {:.2}\".format(model_r2))"
   ]
  },
  {
   "cell_type": "markdown",
   "metadata": {},
   "source": [
    "***\n",
    "### Confidence Intervals\n",
    "Let's look at our confidence intervals. Keep in mind that by default confidence intervals are calculated using 95% intervals. We interpret confidence intervals by saying if the population from which this sample was drawn was sampled 100 times. **Approximately 95 of those confidence intervals would contain the \"true\" coefficient.**\n",
    "\n",
    "Why do we provide a confidence range? Well, it comes from the fact that we only have a sample of the population, not the entire population itself. Because of this, it means that the \"true\" coefficient could exist in the interval below or it couldn't, but we cannot say for sure. We provide some uncertainty by providing a range, usually 95%, where the coefficient is probably in.\n",
    "\n",
    "- Want a narrower range? **Decrease your confidence**.\n",
    "- Want a wider range? **Increase your confidence**."
   ]
  },
  {
   "cell_type": "code",
   "execution_count": 41,
   "metadata": {},
   "outputs": [
    {
     "data": {
      "text/html": [
       "<div>\n",
       "<style scoped>\n",
       "    .dataframe tbody tr th:only-of-type {\n",
       "        vertical-align: middle;\n",
       "    }\n",
       "\n",
       "    .dataframe tbody tr th {\n",
       "        vertical-align: top;\n",
       "    }\n",
       "\n",
       "    .dataframe thead th {\n",
       "        text-align: right;\n",
       "    }\n",
       "</style>\n",
       "<table border=\"1\" class=\"dataframe\">\n",
       "  <thead>\n",
       "    <tr style=\"text-align: right;\">\n",
       "      <th></th>\n",
       "      <th>0</th>\n",
       "      <th>1</th>\n",
       "    </tr>\n",
       "  </thead>\n",
       "  <tbody>\n",
       "    <tr>\n",
       "      <th>const</th>\n",
       "      <td>-0.323322</td>\n",
       "      <td>4.210608</td>\n",
       "    </tr>\n",
       "    <tr>\n",
       "      <th>pop_growth</th>\n",
       "      <td>0.997064</td>\n",
       "      <td>3.366766</td>\n",
       "    </tr>\n",
       "    <tr>\n",
       "      <th>broad_money_growth</th>\n",
       "      <td>-0.037652</td>\n",
       "      <td>0.036865</td>\n",
       "    </tr>\n",
       "    <tr>\n",
       "      <th>gov_final_consum_growth</th>\n",
       "      <td>-0.372408</td>\n",
       "      <td>-0.005139</td>\n",
       "    </tr>\n",
       "    <tr>\n",
       "      <th>gross_cap_form_growth</th>\n",
       "      <td>0.079057</td>\n",
       "      <td>0.179616</td>\n",
       "    </tr>\n",
       "    <tr>\n",
       "      <th>hh_consum_growth</th>\n",
       "      <td>0.325648</td>\n",
       "      <td>0.667975</td>\n",
       "    </tr>\n",
       "    <tr>\n",
       "      <th>unemployment</th>\n",
       "      <td>-0.570237</td>\n",
       "      <td>0.558631</td>\n",
       "    </tr>\n",
       "  </tbody>\n",
       "</table>\n",
       "</div>"
      ],
      "text/plain": [
       "                                0         1\n",
       "const                   -0.323322  4.210608\n",
       "pop_growth               0.997064  3.366766\n",
       "broad_money_growth      -0.037652  0.036865\n",
       "gov_final_consum_growth -0.372408 -0.005139\n",
       "gross_cap_form_growth    0.079057  0.179616\n",
       "hh_consum_growth         0.325648  0.667975\n",
       "unemployment            -0.570237  0.558631"
      ]
     },
     "execution_count": 41,
     "metadata": {},
     "output_type": "execute_result"
    }
   ],
   "source": [
    "# make some confidence intervals, 95% by default\n",
    "est.conf_int()"
   ]
  },
  {
   "cell_type": "markdown",
   "metadata": {},
   "source": [
    "### Hypothesis Testing\n",
    "\n",
    "With hypothesis testing, we are trying to determine the statistical significance of the coefficient estimates. This test is outlined as the following.\n",
    "\n",
    "- **Null Hypothesis:** There is no relationship between the exploratory variables and the explanatory variable.\n",
    "- **Alternative Hypothesis:** There is a relationship between the exploratory variables and the explanatory variable.\n",
    "***\n",
    "- If we **reject the null**, we are saying there is a relationship, and the coefficients do not equal 0.\n",
    "- If we **fail to reject the null**, we are saying there is no relationship, and the coefficients do equal 0"
   ]
  },
  {
   "cell_type": "code",
   "execution_count": 42,
   "metadata": {},
   "outputs": [
    {
     "data": {
      "text/plain": [
       "const                      9.088069e-02\n",
       "pop_growth                 5.996378e-04\n",
       "broad_money_growth         9.830934e-01\n",
       "gov_final_consum_growth    4.419934e-02\n",
       "gross_cap_form_growth      5.978663e-06\n",
       "hh_consum_growth           6.801951e-07\n",
       "unemployment               9.835355e-01\n",
       "dtype: float64"
      ]
     },
     "execution_count": 42,
     "metadata": {},
     "output_type": "execute_result"
    }
   ],
   "source": [
    "# estimate the p-values\n",
    "est.pvalues"
   ]
  },
  {
   "cell_type": "markdown",
   "metadata": {},
   "source": [
    "Here it's a little hard to tell, but we have a few insignificant coefficients. The first is the constant itself, so technically this should be dropped. However, we will see that once we remove the irrelevant variables that the intercept becomes significant. **If it still wasn't significant, we could have our intercept start at 0 and assume that the cumulative effect of X on Y begins from the origin (0,0).** Along with the constant, we have `unemployment` and `broad_money_growth` both come out as insignificant."
   ]
  },
  {
   "cell_type": "markdown",
   "metadata": {},
   "source": [
    "***\n",
    "### Create a Summary of the Model Output\n",
    "Let's create a summary of some of our keep metrics, `sklearn` does not have a good way of creating this output so we would have to calculate all the parameters ourselves. Let's avoid this and use the `statsmodel.api` library as we can create the same model we did up above, but we can also leverage the `summary()` method to create an output for us. Some of the metrics might differ slightly, but they generally should be the same."
   ]
  },
  {
   "cell_type": "code",
   "execution_count": 43,
   "metadata": {},
   "outputs": [
    {
     "name": "stdout",
     "output_type": "stream",
     "text": [
      "                            OLS Regression Results                            \n",
      "==============================================================================\n",
      "Dep. Variable:             gdp_growth   R-squared:                       0.893\n",
      "Model:                            OLS   Adj. R-squared:                  0.878\n",
      "Method:                 Least Squares   F-statistic:                     57.17\n",
      "Date:                Sat, 27 Apr 2019   Prob (F-statistic):           2.36e-18\n",
      "Time:                        15:57:05   Log-Likelihood:                -82.903\n",
      "No. Observations:                  48   AIC:                             179.8\n",
      "Df Residuals:                      41   BIC:                             192.9\n",
      "Df Model:                           6                                         \n",
      "Covariance Type:            nonrobust                                         \n",
      "===========================================================================================\n",
      "                              coef    std err          t      P>|t|      [0.025      0.975]\n",
      "-------------------------------------------------------------------------------------------\n",
      "const                       1.9436      1.123      1.732      0.091      -0.323       4.211\n",
      "pop_growth                  2.1819      0.587      3.719      0.001       0.997       3.367\n",
      "broad_money_growth         -0.0004      0.018     -0.021      0.983      -0.038       0.037\n",
      "gov_final_consum_growth    -0.1888      0.091     -2.076      0.044      -0.372      -0.005\n",
      "gross_cap_form_growth       0.1293      0.025      5.195      0.000       0.079       0.180\n",
      "hh_consum_growth            0.4968      0.085      5.862      0.000       0.326       0.668\n",
      "unemployment               -0.0058      0.279     -0.021      0.984      -0.570       0.559\n",
      "==============================================================================\n",
      "Omnibus:                        0.820   Durbin-Watson:                   1.589\n",
      "Prob(Omnibus):                  0.664   Jarque-Bera (JB):                0.658\n",
      "Skew:                           0.281   Prob(JB):                        0.720\n",
      "Kurtosis:                       2.881   Cond. No.                         154.\n",
      "==============================================================================\n",
      "\n",
      "Warnings:\n",
      "[1] Standard Errors assume that the covariance matrix of the errors is correctly specified.\n"
     ]
    }
   ],
   "source": [
    "# print out a summary\n",
    "print(est.summary())"
   ]
  },
  {
   "cell_type": "markdown",
   "metadata": {},
   "source": [
    "The first thing we notice is that the p-values from up above are now easier to read and we can now determine that the coefficients that have a p-value greater than 0.05 can be removed. We also have our 95% confidence interval (described up above), our coefficient estimates (described up above), the standard errors, and t-values.\n",
    "\n",
    "The other metric that stands out is our Adjusted R-Squared value which is .878, lower than our R-Squared value. This makes sense as we were probably docked for the complexity of our model. However, an R-Squared over .878 is still very strong.\n",
    "\n",
    "The only additional metrics we will describe here is the t-value which is the coefficient divided by the standard error. The higher the t-value, the more evidence we have to reject the null hypothesis. Also the standard error, the standard error is the approximate standard deviation of a statistical sample population."
   ]
  },
  {
   "cell_type": "markdown",
   "metadata": {},
   "source": [
    "***\n",
    "## Section Seven: Remove the Insignificant Variables.\n",
    "Now that we know which variables are insignificant we should remove them from the model and refit the data to see what we get, the steps are the same the only thing I'm changing is that I am removing some additional columns from the data frame."
   ]
  },
  {
   "cell_type": "code",
   "execution_count": 44,
   "metadata": {},
   "outputs": [
    {
     "data": {
      "text/plain": [
       "LinearRegression(copy_X=True, fit_intercept=True, n_jobs=None,\n",
       "         normalize=False)"
      ]
     },
     "execution_count": 44,
     "metadata": {},
     "output_type": "execute_result"
    }
   ],
   "source": [
    "# define our input variable (X) & output variable\n",
    "econ_df_after = econ_df.drop(['birth_rate', 'final_consum_growth','gross_capital_formation','broad_money_growth',\n",
    "                              'unemployment'], axis = 1)\n",
    "\n",
    "X = econ_df_after.drop('gdp_growth', axis = 1)\n",
    "Y = econ_df_after[['gdp_growth']]\n",
    "\n",
    "# Split X and y into X_\n",
    "X_train, X_test, y_train, y_test = train_test_split(X, Y, test_size=0.20, random_state=1)\n",
    "\n",
    "# create a Linear Regression model object\n",
    "regression_model = LinearRegression()\n",
    "\n",
    "# pass through the X_train & y_train data set\n",
    "regression_model.fit(X_train, y_train)"
   ]
  },
  {
   "cell_type": "code",
   "execution_count": 45,
   "metadata": {},
   "outputs": [
    {
     "name": "stdout",
     "output_type": "stream",
     "text": [
      "                            OLS Regression Results                            \n",
      "==============================================================================\n",
      "Dep. Variable:             gdp_growth   R-squared:                       0.893\n",
      "Model:                            OLS   Adj. R-squared:                  0.883\n",
      "Method:                 Least Squares   F-statistic:                     89.94\n",
      "Date:                Sat, 27 Apr 2019   Prob (F-statistic):           2.61e-20\n",
      "Time:                        15:57:05   Log-Likelihood:                -82.904\n",
      "No. Observations:                  48   AIC:                             175.8\n",
      "Df Residuals:                      43   BIC:                             185.2\n",
      "Df Model:                           4                                         \n",
      "Covariance Type:            nonrobust                                         \n",
      "===========================================================================================\n",
      "                              coef    std err          t      P>|t|      [0.025      0.975]\n",
      "-------------------------------------------------------------------------------------------\n",
      "const                       1.9229      0.573      3.356      0.002       0.767       3.078\n",
      "pop_growth                  2.1704      0.477      4.546      0.000       1.208       3.133\n",
      "gov_final_consum_growth    -0.1889      0.087     -2.162      0.036      -0.365      -0.013\n",
      "gross_cap_form_growth       0.1293      0.024      5.346      0.000       0.081       0.178\n",
      "hh_consum_growth            0.4976      0.076      6.526      0.000       0.344       0.651\n",
      "==============================================================================\n",
      "Omnibus:                        0.831   Durbin-Watson:                   1.589\n",
      "Prob(Omnibus):                  0.660   Jarque-Bera (JB):                0.666\n",
      "Skew:                           0.282   Prob(JB):                        0.717\n",
      "Kurtosis:                       2.882   Cond. No.                         51.9\n",
      "==============================================================================\n",
      "\n",
      "Warnings:\n",
      "[1] Standard Errors assume that the covariance matrix of the errors is correctly specified.\n"
     ]
    },
    {
     "name": "stderr",
     "output_type": "stream",
     "text": [
      "C:\\Users\\Alex\\Anaconda3\\lib\\site-packages\\numpy\\core\\fromnumeric.py:2389: FutureWarning: Method .ptp is deprecated and will be removed in a future version. Use numpy.ptp instead.\n",
      "  return ptp(axis=axis, out=out, **kwargs)\n"
     ]
    }
   ],
   "source": [
    "# define our intput\n",
    "X2 = sm.add_constant(X)\n",
    "\n",
    "# create a OLS model\n",
    "model = sm.OLS(Y, X2)\n",
    "\n",
    "# fit the data\n",
    "est = model.fit()\n",
    "\n",
    "print(est.summary())"
   ]
  },
  {
   "cell_type": "markdown",
   "metadata": {},
   "source": [
    "**Looking at the output, we now see that all of the independent variables are significant and even our constant is significant.** We could rerun our test for autocorrelation and, but the tests will take you to the same conclusions we found above so I decided to leave that out of the tutorial. At this point, we can interpret our formula and begin making predictions. Looking at the coefficents, we would say `pop_growth`, `gross_cap_form_growth`, and `hh_consum_growth` all have a positive effect on GDP growth. Additionally, we would say that `gov_final_consum_growth` has a negative effect on GDP growth. That's a little surprising to see, but we would have to see why that might be the case."
   ]
  },
  {
   "cell_type": "markdown",
   "metadata": {},
   "source": [
    "***\n",
    "## Section Eight: Save the Model for Future Use\n",
    "We will probably want to use this model in the future, so let us save our work so we can use it later. Saving the model can be achieved by storing our model in a pickle which is storing a python object as a character stream in a file which can be reloaded later to use."
   ]
  },
  {
   "cell_type": "code",
   "execution_count": 46,
   "metadata": {},
   "outputs": [
    {
     "data": {
      "text/plain": [
       "array([[7.6042968]])"
      ]
     },
     "execution_count": 46,
     "metadata": {},
     "output_type": "execute_result"
    }
   ],
   "source": [
    "import pickle\n",
    "\n",
    "# pickle the model\n",
    "with open('my_mulitlinear_regression.sav','wb') as f:\n",
    "     pickle.dump(regression_model, f)\n",
    "\n",
    "# load it back in\n",
    "with open('my_mulitlinear_regression.sav', 'rb') as pickle_file:\n",
    "     regression_model_2 = pickle.load(pickle_file)\n",
    "\n",
    "# make a new prediction\n",
    "regression_model_2.predict([X_test.loc[2002]])"
   ]
  }
 ],
 "metadata": {
  "kernelspec": {
   "display_name": "Python 3",
   "language": "python",
   "name": "python3"
  },
  "language_info": {
   "codemirror_mode": {
    "name": "ipython",
    "version": 3
   },
   "file_extension": ".py",
   "mimetype": "text/x-python",
   "name": "python",
   "nbconvert_exporter": "python",
   "pygments_lexer": "ipython3",
   "version": "3.7.3"
  }
 },
 "nbformat": 4,
 "nbformat_minor": 2
}